{
 "cells": [
  {
   "cell_type": "code",
   "execution_count": 1,
   "id": "b0fccba6",
   "metadata": {},
   "outputs": [],
   "source": [
    "import torch\n",
    "import torch.nn as nn\n",
    "import numpy as np\n",
    "import pandas as pd\n",
    "from matplotlib import pyplot as plt\n",
    "%matplotlib inline\n",
    "from torch.utils.data import DataLoader, TensorDataset, random_split\n",
    "\n",
    "import zipfile"
   ]
  },
  {
   "cell_type": "markdown",
   "id": "635aaab2",
   "metadata": {},
   "source": [
    "构建数据集"
   ]
  },
  {
   "cell_type": "code",
   "execution_count": 2,
   "id": "efeaa9b6",
   "metadata": {},
   "outputs": [],
   "source": [
    "full_data_path = \"../data/full_data.csv\"\n",
    "full = pd.read_csv(full_data_path)"
   ]
  },
  {
   "cell_type": "code",
   "execution_count": 3,
   "id": "23834c0f",
   "metadata": {},
   "outputs": [
    {
     "name": "stdout",
     "output_type": "stream",
     "text": [
      "训练集标签：\n",
      "(891,), 类型：<class 'numpy.ndarray'>\n",
      "训练集样本：\n",
      "(891, 11), 类型：<class 'numpy.ndarray'>\n",
      "测试集样本：\n",
      "(418, 11), 类型：<class 'numpy.ndarray'>\n"
     ]
    }
   ],
   "source": [
    "# 取出训练集样本和标签，测试集样本，并转换为numpy类型\n",
    "train_labels = full.iloc[:891, 0].to_numpy()\n",
    "print(f\"训练集标签：\\n{train_labels.shape}, 类型：{type(train_labels)}\")\n",
    "\n",
    "train_inputs = full.iloc[:891, 1:].to_numpy()\n",
    "print(f\"训练集样本：\\n{train_inputs.shape}, 类型：{type(train_inputs)}\")\n",
    "\n",
    "test_inputs = full.iloc[891:, 1:].to_numpy()\n",
    "print(f\"测试集样本：\\n{test_inputs.shape}, 类型：{type(test_inputs)}\")"
   ]
  },
  {
   "cell_type": "code",
   "execution_count": 4,
   "id": "cc1b8b78",
   "metadata": {},
   "outputs": [
    {
     "name": "stdout",
     "output_type": "stream",
     "text": [
      "训练集标签：\n",
      "torch.Size([891]), 类型：<class 'torch.Tensor'>\n",
      "训练集样本：\n",
      "torch.Size([891, 11]), 类型：<class 'torch.Tensor'>\n",
      "测试集样本：\n",
      "torch.Size([418, 11]), 类型：<class 'torch.Tensor'>\n"
     ]
    }
   ],
   "source": [
    "# 将数据转换为tensor类型\n",
    "train_labels = torch.from_numpy(train_labels).to(torch.long)\n",
    "print(f\"训练集标签：\\n{train_labels.size()}, 类型：{type(train_labels)}\")\n",
    "\n",
    "train_inputs = torch.from_numpy(train_inputs).to(torch.float32)\n",
    "print(f\"训练集样本：\\n{train_inputs.size()}, 类型：{type(train_inputs)}\")\n",
    "\n",
    "test_inputs = torch.from_numpy(test_inputs).to(torch.float32)\n",
    "print(f\"测试集样本：\\n{test_inputs.size()}, 类型：{type(test_inputs)}\")"
   ]
  },
  {
   "cell_type": "code",
   "execution_count": 5,
   "id": "52e27de9",
   "metadata": {},
   "outputs": [
    {
     "name": "stdout",
     "output_type": "stream",
     "text": [
      "数据集大小：891\n",
      "数据集样本大小：624, 验证集样本大小：267\n"
     ]
    }
   ],
   "source": [
    "# 将样本和标签构建成数据集，以便使用DataLoader来自动生成batch训练\n",
    "dataset = TensorDataset(train_inputs, train_labels)\n",
    "dataset_len = len(dataset)\n",
    "print(f\"数据集大小：{dataset_len}\")\n",
    "\n",
    "# 将数据集进一步划分为训练集和验证集(7:3，大概训练集624个，验证集267个)\n",
    "torch.manual_seed(1)\n",
    "train_dataset, valid_dataset = random_split(dataset, lengths=[624, 267])\n",
    "print(f\"数据集样本大小：{len(train_dataset)}, 验证集样本大小：{len(valid_dataset)}\")"
   ]
  },
  {
   "cell_type": "markdown",
   "id": "1024a5f7",
   "metadata": {},
   "source": [
    "构建模型"
   ]
  },
  {
   "cell_type": "code",
   "execution_count": 25,
   "id": "6b3d5e4f",
   "metadata": {},
   "outputs": [
    {
     "data": {
      "text/plain": [
       "Net(\n",
       "  (lin1): Linear(in_features=11, out_features=44, bias=True)\n",
       "  (lin2): Linear(in_features=44, out_features=22, bias=True)\n",
       "  (lin3): Linear(in_features=22, out_features=11, bias=True)\n",
       "  (lin4): Linear(in_features=11, out_features=2, bias=True)\n",
       "  (relu): ReLU()\n",
       ")"
      ]
     },
     "execution_count": 25,
     "metadata": {},
     "output_type": "execute_result"
    }
   ],
   "source": [
    "class Net(torch.nn.Module):\n",
    "    def __init__(self, input_size, output_size):\n",
    "        super().__init__()\n",
    "        self.input_size = input_size\n",
    "        self.output_size = output_size\n",
    "        self.lin1 = nn.Linear(input_size, 44)\n",
    "        self.lin2 = nn.Linear(44, 22)\n",
    "        self.lin3 = nn.Linear(22, 11)\n",
    "        self.lin4 = nn.Linear(11, output_size)\n",
    "        self.relu = nn.ReLU()\n",
    "        \n",
    "    def forward(self, x):\n",
    "        x = self.relu(self.lin1(x))\n",
    "        x = self.relu(self.lin2(x))\n",
    "        x = self.relu(self.lin3(x))\n",
    "        x = self.relu(self.lin4(x))\n",
    "        return x\n",
    "\n",
    "# 定义模型\n",
    "net = Net(11, 2)\n",
    "def init_normal(m):\n",
    "    if type(m) == nn.Linear:\n",
    "        nn.init.normal_(m.weight, mean=0, std=0.01)\n",
    "net.apply(init_normal)"
   ]
  },
  {
   "cell_type": "code",
   "execution_count": 26,
   "id": "b7347a62",
   "metadata": {},
   "outputs": [
    {
     "name": "stdout",
     "output_type": "stream",
     "text": [
      "开始训练：\n",
      "\n",
      "Epoch [1/60] Loss=0.6916, 训练集准确率：61.3782%， 验证集准确率：62.1723%\n",
      "Epoch [2/60] Loss=0.6905, 训练集准确率：61.6987%， 验证集准确率：65.5431%\n",
      "Epoch [3/60] Loss=0.6396, 训练集准确率：68.7500%， 验证集准确率：65.1685%\n",
      "Epoch [4/60] Loss=0.6571, 训练集准确率：69.7115%， 验证集准确率：67.7903%\n",
      "Epoch [5/60] Loss=0.5641, 训练集准确率：68.9103%， 验证集准确率：66.2921%\n",
      "Epoch [6/60] Loss=0.5142, 训练集准确率：70.0321%， 验证集准确率：67.0412%\n",
      "Epoch [7/60] Loss=0.6652, 训练集准确率：74.0385%， 验证集准确率：73.0337%\n",
      "Epoch [8/60] Loss=0.3961, 训练集准确率：74.8397%， 验证集准确率：71.9101%\n",
      "Epoch [9/60] Loss=0.5350, 训练集准确率：70.9936%， 验证集准确率：61.0487%\n",
      "Epoch [10/60] Loss=0.4638, 训练集准确率：75.0000%， 验证集准确率：72.2846%\n",
      "Epoch [11/60] Loss=0.4463, 训练集准确率：78.6859%， 验证集准确率：72.2846%\n",
      "Epoch [12/60] Loss=0.4934, 训练集准确率：79.8077%， 验证集准确率：72.6592%\n",
      "Epoch [13/60] Loss=0.4170, 训练集准确率：79.8077%， 验证集准确率：75.6554%\n",
      "Epoch [14/60] Loss=0.6398, 训练集准确率：79.6474%， 验证集准确率：73.7828%\n",
      "Epoch [15/60] Loss=0.6195, 训练集准确率：79.8077%， 验证集准确率：72.2846%\n",
      "Epoch [16/60] Loss=0.4435, 训练集准确率：77.0833%， 验证集准确率：75.6554%\n",
      "Epoch [17/60] Loss=0.5702, 训练集准确率：79.4872%， 验证集准确率：78.2772%\n",
      "Epoch [18/60] Loss=0.5868, 训练集准确率：80.6090%， 验证集准确率：78.2772%\n",
      "Epoch [19/60] Loss=0.4959, 训练集准确率：80.9295%， 验证集准确率：78.6517%\n",
      "Epoch [20/60] Loss=0.5765, 训练集准确率：81.2500%， 验证集准确率：79.7753%\n",
      "Epoch [21/60] Loss=0.4065, 训练集准确率：80.2885%， 验证集准确率：77.9026%\n",
      "Epoch [22/60] Loss=0.5420, 训练集准确率：78.8462%， 验证集准确率：78.2772%\n",
      "Epoch [23/60] Loss=0.3729, 训练集准确率：80.7692%， 验证集准确率：79.4007%\n",
      "Epoch [24/60] Loss=0.5137, 训练集准确率：82.2115%， 验证集准确率：79.7753%\n",
      "Epoch [25/60] Loss=0.4610, 训练集准确率：82.5321%， 验证集准确率：81.6479%\n",
      "Epoch [26/60] Loss=0.3138, 训练集准确率：82.5321%， 验证集准确率：79.4007%\n",
      "Epoch [27/60] Loss=0.3227, 训练集准确率：80.9295%， 验证集准确率：80.1498%\n",
      "Epoch [28/60] Loss=0.3892, 训练集准确率：80.9295%， 验证集准确率：78.2772%\n",
      "Epoch [29/60] Loss=0.4872, 训练集准确率：79.8077%， 验证集准确率：75.2809%\n",
      "Epoch [30/60] Loss=0.4937, 训练集准确率：80.2885%， 验证集准确率：73.7828%\n",
      "Epoch [31/60] Loss=0.3731, 训练集准确率：80.2885%， 验证集准确率：78.2772%\n",
      "Epoch [32/60] Loss=0.3693, 训练集准确率：81.5705%， 验证集准确率：76.7790%\n",
      "Epoch [33/60] Loss=0.3652, 训练集准确率：80.1282%， 验证集准确率：79.0262%\n",
      "Epoch [34/60] Loss=0.4713, 训练集准确率：82.2115%， 验证集准确率：79.0262%\n",
      "Epoch [35/60] Loss=0.5748, 训练集准确率：81.0897%， 验证集准确率：80.1498%\n",
      "Epoch [36/60] Loss=0.2755, 训练集准确率：79.6474%， 验证集准确率：77.9026%\n",
      "Epoch [37/60] Loss=0.3422, 训练集准确率：81.7308%， 验证集准确率：79.7753%\n",
      "Epoch [38/60] Loss=0.5831, 训练集准确率：81.2500%， 验证集准确率：79.7753%\n",
      "Epoch [39/60] Loss=0.6477, 训练集准确率：81.2500%， 验证集准确率：81.2734%\n",
      "Epoch [40/60] Loss=0.2904, 训练集准确率：83.0128%， 验证集准确率：78.2772%\n",
      "Epoch [41/60] Loss=0.3554, 训练集准确率：80.6090%， 验证集准确率：79.7753%\n",
      "Epoch [42/60] Loss=0.4288, 训练集准确率：81.2500%， 验证集准确率：80.8989%\n",
      "Epoch [43/60] Loss=0.4172, 训练集准确率：81.4103%， 验证集准确率：80.5243%\n",
      "Epoch [44/60] Loss=0.2952, 训练集准确率：82.8526%， 验证集准确率：80.8989%\n",
      "Epoch [45/60] Loss=0.4768, 训练集准确率：82.5321%， 验证集准确率：79.4007%\n",
      "Epoch [46/60] Loss=0.4488, 训练集准确率：81.4103%， 验证集准确率：78.2772%\n",
      "Epoch [47/60] Loss=0.4019, 训练集准确率：82.2115%， 验证集准确率：80.8989%\n",
      "Epoch [48/60] Loss=0.2754, 训练集准确率：82.3718%， 验证集准确率：80.1498%\n",
      "Epoch [49/60] Loss=0.3294, 训练集准确率：83.1731%， 验证集准确率：80.1498%\n",
      "Epoch [50/60] Loss=0.4424, 训练集准确率：82.8526%， 验证集准确率：80.1498%\n",
      "Epoch [51/60] Loss=0.2747, 训练集准确率：82.3718%， 验证集准确率：79.7753%\n",
      "Epoch [52/60] Loss=0.3032, 训练集准确率：82.6923%， 验证集准确率：81.6479%\n",
      "Epoch [53/60] Loss=0.2889, 训练集准确率：82.6923%， 验证集准确率：80.1498%\n",
      "Epoch [54/60] Loss=0.5595, 训练集准确率：83.1731%， 验证集准确率：80.5243%\n",
      "Epoch [55/60] Loss=0.2863, 训练集准确率：83.6538%， 验证集准确率：80.5243%\n",
      "Epoch [56/60] Loss=0.4508, 训练集准确率：81.8910%， 验证集准确率：79.0262%\n",
      "Epoch [57/60] Loss=0.4178, 训练集准确率：82.3718%， 验证集准确率：79.7753%\n",
      "Epoch [58/60] Loss=0.3148, 训练集准确率：83.3333%， 验证集准确率：80.5243%\n",
      "Epoch [59/60] Loss=0.3892, 训练集准确率：83.1731%， 验证集准确率：80.8989%\n",
      "Epoch [60/60] Loss=0.3993, 训练集准确率：82.5321%， 验证集准确率：80.1498%\n"
     ]
    }
   ],
   "source": [
    "# 定义batch大小\n",
    "batch_size = 64\n",
    "train_dataset_loader = DataLoader(train_dataset, batch_size=batch_size, shuffle=True)\n",
    "valid_dataset_loader = DataLoader(valid_dataset, batch_size=batch_size*2)\n",
    "\n",
    "# 定义优化器\n",
    "optimizer = torch.optim.Adam(net.parameters(), lr=0.007)\n",
    "# 定义损失函数，分类问题使用交叉熵损失函数\n",
    "loss_fn = torch.nn.CrossEntropyLoss()\n",
    "\n",
    "# 定义迭代次数\n",
    "epochs = 60\n",
    "\n",
    "train_acc_list = []  #记录训练集的识别精度\n",
    "valid_acc_list = []   #记录测试集的识别精度\n",
    "\n",
    "print(\"开始训练：\\n\")\n",
    "for i in range(epochs):\n",
    "    loss = 0\n",
    "    train_correct = 0\n",
    "    # 在训练集上训练，并计算准确率\n",
    "    for inputs, labels in train_dataset_loader:\n",
    "        optimizer.zero_grad()\n",
    "        # 前向传播计算输出\n",
    "        outputs = net(inputs)\n",
    "        # 找出输出中最大值的索引下标\n",
    "        _, idx = outputs.max(dim=1)\n",
    "        train_correct += (idx == labels).sum()\n",
    "        # 计算损失\n",
    "        loss = loss_fn(outputs, labels)\n",
    "        # 反向传播计算梯度\n",
    "        loss.backward()\n",
    "        # 优化参数\n",
    "        optimizer.step()\n",
    "        \n",
    "    # 寻找出训练集准确率不低的模型\n",
    "    train_accuracy = train_correct / len(train_dataset)\n",
    "    train_acc_list.append(train_accuracy)\n",
    "\n",
    "\n",
    "    # 在验证集上计算准确率\n",
    "    valid_correct = 0\n",
    "    for inputs, labels in valid_dataset_loader:\n",
    "        outputs = net(inputs)\n",
    "        _, idx = outputs.max(dim=1)\n",
    "        valid_correct += (idx == labels).sum()\n",
    "\n",
    "    valid_accuracy = valid_correct / len(valid_dataset)\n",
    "    valid_acc_list.append(valid_accuracy)\n",
    "    \n",
    "    train_metrics = loss.item(), train_accuracy\n",
    "    print(\"Epoch [%d/%d] Loss=%.4f\" %(i+1, epochs, loss.item()), end='')\n",
    "    print(\", 训练集准确率：%.4f%%\" %(train_accuracy * 100), end='')\n",
    "    print(\"， 验证集准确率：%.4f%%\" %(valid_accuracy*100))\n",
    "    \n",
    "save_path = 'net.pth'\n",
    "# 保存模型，字典形式\n",
    "torch.save(net.state_dict(), save_path)"
   ]
  },
  {
   "cell_type": "code",
   "execution_count": 27,
   "id": "22abdfcf",
   "metadata": {},
   "outputs": [
    {
     "data": {
      "image/png": "[encoded data removed]",
      "text/plain": [
       "<Figure size 432x288 with 1 Axes>"
      ]
     },
     "metadata": {
      "needs_background": "light"
     },
     "output_type": "display_data"
    }
   ],
   "source": [
    "# 绘制训练集与测试集识别精度比较的图形\n",
    "markers = {'train': 'o', 'test': 's'}\n",
    "x = np.arange(len(train_acc_list))\n",
    "plt.plot(x, train_acc_list, label='train acc')\n",
    "plt.plot(x, valid_acc_list, label='test acc', linestyle='--')\n",
    "plt.xlabel(\"epochs\")\n",
    "plt.ylabel(\"accuracy\")\n",
    "plt.ylim(0, 1.0)\n",
    "plt.legend(loc='lower right')\n",
    "plt.show()"
   ]
  },
  {
   "cell_type": "markdown",
   "id": "0195cd0e",
   "metadata": {},
   "source": [
    "预测数据"
   ]
  },
  {
   "cell_type": "code",
   "execution_count": 28,
   "id": "0930eebc",
   "metadata": {},
   "outputs": [],
   "source": [
    "TEST_PATH = \"../titanic/test.csv\"\n",
    "SUBMISSION_PATH = \"../predict/submission.csv\"\n",
    "test_data = pd.read_csv(TEST_PATH) # 418条"
   ]
  },
  {
   "cell_type": "code",
   "execution_count": 29,
   "id": "6b12c617",
   "metadata": {},
   "outputs": [
    {
     "name": "stdout",
     "output_type": "stream",
     "text": [
      "测试集大小：418, 测试集类型:<class 'torch.Tensor'>\n"
     ]
    }
   ],
   "source": [
    "print(f\"测试集大小：{len(test_inputs)}, 测试集类型:{type(test_inputs)}\")"
   ]
  },
  {
   "cell_type": "code",
   "execution_count": 30,
   "id": "284fa4a9",
   "metadata": {},
   "outputs": [
    {
     "name": "stdout",
     "output_type": "stream",
     "text": [
      "输出数据的大小：torch.Size([418, 2])\n"
     ]
    }
   ],
   "source": [
    "# 创建模型\n",
    "net = Net(11, 2)\n",
    "# 加载训练好的模型\n",
    "net.load_state_dict(torch.load('net.pth'))\n",
    "# 前向计算输出\n",
    "outputs = net(test_inputs)\n",
    "print(f\"输出数据的大小：{outputs.size()}\")"
   ]
  },
  {
   "cell_type": "code",
   "execution_count": 31,
   "id": "1a3063e5",
   "metadata": {},
   "outputs": [],
   "source": [
    "# 从输出数据中，找出每一行的最大值索引，即对应的预测数据，Survived是否生还\n",
    "_, predict = outputs.max(dim=1)\n",
    "# 转换为numpy数据类型\n",
    "predict = predict.numpy()\n",
    "# print(f\"预测结果的大小：{predict.shape}, 预测数据：\\n{predict}\")"
   ]
  },
  {
   "cell_type": "code",
   "execution_count": 32,
   "id": "9e577ddb",
   "metadata": {},
   "outputs": [
    {
     "name": "stdout",
     "output_type": "stream",
     "text": [
      "<class 'pandas.core.frame.DataFrame'>\n",
      "RangeIndex: 418 entries, 0 to 417\n",
      "Data columns (total 11 columns):\n",
      " #   Column       Non-Null Count  Dtype  \n",
      "---  ------       --------------  -----  \n",
      " 0   PassengerId  418 non-null    int64  \n",
      " 1   Pclass       418 non-null    int64  \n",
      " 2   Name         418 non-null    object \n",
      " 3   Sex          418 non-null    object \n",
      " 4   Age          332 non-null    float64\n",
      " 5   SibSp        418 non-null    int64  \n",
      " 6   Parch        418 non-null    int64  \n",
      " 7   Ticket       418 non-null    object \n",
      " 8   Fare         417 non-null    float64\n",
      " 9   Cabin        91 non-null     object \n",
      " 10  Embarked     418 non-null    object \n",
      "dtypes: float64(2), int64(4), object(5)\n",
      "memory usage: 36.0+ KB\n",
      "读取的测试文件：\n",
      "None\n"
     ]
    }
   ],
   "source": [
    "# 查看读取的测试文件内容\n",
    "print(f\"读取的测试文件：\\n{test_data.info()}\")"
   ]
  },
  {
   "cell_type": "code",
   "execution_count": 33,
   "id": "b7d9d817",
   "metadata": {},
   "outputs": [],
   "source": [
    "# 从测试csv文件中取出PassengerId，并转换为numpy数据类型\n",
    "passenger_id = test_data['PassengerId'].to_numpy()\n",
    "# print(f\"id数据的大小：{passenger_id.shape}, 数据:\\n{passenger_id}\")"
   ]
  },
  {
   "cell_type": "code",
   "execution_count": 34,
   "id": "0668bc73",
   "metadata": {},
   "outputs": [],
   "source": [
    "# 将PassengerId与预测结果，两两组合，构建成DataFrame类型，再写入到csv文件中\n",
    "data = zip(passenger_id, predict)\n",
    "result = pd.DataFrame(data=data, columns=['PassengerId', 'Survived'])\n",
    "result.to_csv(SUBMISSION_PATH, index=None)"
   ]
  },
  {
   "cell_type": "code",
   "execution_count": null,
   "id": "d913dbf7",
   "metadata": {},
   "outputs": [],
   "source": []
  }
 ],
 "metadata": {
  "kernelspec": {
   "display_name": "Python 3 (ipykernel)",
   "language": "python",
   "name": "python3"
  },
  "language_info": {
   "codemirror_mode": {
    "name": "ipython",
    "version": 3
   },
   "file_extension": ".py",
   "mimetype": "text/x-python",
   "name": "python",
   "nbconvert_exporter": "python",
   "pygments_lexer": "ipython3",
   "version": "3.8.13"
  }
 },
 "nbformat": 4,
 "nbformat_minor": 5
}
