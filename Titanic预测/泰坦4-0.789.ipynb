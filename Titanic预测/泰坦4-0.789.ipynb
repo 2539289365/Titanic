{
 "cells": [
  {
   "cell_type": "code",
   "execution_count": 1,
   "id": "7729b0c4",
   "metadata": {},
   "outputs": [],
   "source": [
    "import copy\n",
    "\n",
    "import torch\n",
    "import torch.nn as nn\n",
    "import numpy as np\n",
    "import pandas as pd"
   ]
  },
  {
   "cell_type": "code",
   "execution_count": 2,
   "id": "021522f0",
   "metadata": {},
   "outputs": [],
   "source": [
    "TRAIN_PATH = \"./titanic/train.csv\" # \"./\"：代表目前所在的目录。\n",
    "TEST_PATH = \"./titanic/test.csv\"\n",
    "SAMPLE_SUBMISSION_PATH = \"./titanic/gender_submission.csv\"\n",
    "SUBMISSION_PATH = \"submission2-2.csv\""
   ]
  },
  {
   "cell_type": "code",
   "execution_count": 3,
   "id": "65974d46",
   "metadata": {},
   "outputs": [],
   "source": [
    "import os\n",
    "from matplotlib import pyplot as plt\n",
    "# %matplotlib inline 可以在Ipython编译器里直接使用，功能是可以内嵌绘图，并且可以省略掉plt.show()这一步。\n",
    "%matplotlib inline"
   ]
  },
  {
   "cell_type": "code",
   "execution_count": 4,
   "id": "5c76528d",
   "metadata": {},
   "outputs": [],
   "source": [
    "ID = 'PassengerId'\n",
    "TARGET = 'Survived'"
   ]
  },
  {
   "cell_type": "code",
   "execution_count": 5,
   "id": "a89b8088",
   "metadata": {},
   "outputs": [],
   "source": [
    "# 读取训练集文件，并查看相关信息\n",
    "train_data = pd.read_csv(TRAIN_PATH)"
   ]
  },
  {
   "cell_type": "code",
   "execution_count": 6,
   "id": "cecf38a5",
   "metadata": {},
   "outputs": [
    {
     "data": {
      "text/html": [
       "<div>\n",
       "<style scoped>\n",
       "    .dataframe tbody tr th:only-of-type {\n",
       "        vertical-align: middle;\n",
       "    }\n",
       "\n",
       "    .dataframe tbody tr th {\n",
       "        vertical-align: top;\n",
       "    }\n",
       "\n",
       "    .dataframe thead th {\n",
       "        text-align: right;\n",
       "    }\n",
       "</style>\n",
       "<table border=\"1\" class=\"dataframe\">\n",
       "  <thead>\n",
       "    <tr style=\"text-align: right;\">\n",
       "      <th></th>\n",
       "      <th>PassengerId</th>\n",
       "      <th>Survived</th>\n",
       "      <th>Pclass</th>\n",
       "      <th>Name</th>\n",
       "      <th>Sex</th>\n",
       "      <th>Age</th>\n",
       "      <th>SibSp</th>\n",
       "      <th>Parch</th>\n",
       "      <th>Ticket</th>\n",
       "      <th>Fare</th>\n",
       "      <th>Cabin</th>\n",
       "      <th>Embarked</th>\n",
       "    </tr>\n",
       "  </thead>\n",
       "  <tbody>\n",
       "    <tr>\n",
       "      <th>0</th>\n",
       "      <td>1</td>\n",
       "      <td>0</td>\n",
       "      <td>3</td>\n",
       "      <td>Braund, Mr. Owen Harris</td>\n",
       "      <td>male</td>\n",
       "      <td>22.0</td>\n",
       "      <td>1</td>\n",
       "      <td>0</td>\n",
       "      <td>A/5 21171</td>\n",
       "      <td>7.2500</td>\n",
       "      <td>NaN</td>\n",
       "      <td>S</td>\n",
       "    </tr>\n",
       "    <tr>\n",
       "      <th>1</th>\n",
       "      <td>2</td>\n",
       "      <td>1</td>\n",
       "      <td>1</td>\n",
       "      <td>Cumings, Mrs. John Bradley (Florence Briggs Th...</td>\n",
       "      <td>female</td>\n",
       "      <td>38.0</td>\n",
       "      <td>1</td>\n",
       "      <td>0</td>\n",
       "      <td>PC 17599</td>\n",
       "      <td>71.2833</td>\n",
       "      <td>C85</td>\n",
       "      <td>C</td>\n",
       "    </tr>\n",
       "    <tr>\n",
       "      <th>2</th>\n",
       "      <td>3</td>\n",
       "      <td>1</td>\n",
       "      <td>3</td>\n",
       "      <td>Heikkinen, Miss. Laina</td>\n",
       "      <td>female</td>\n",
       "      <td>26.0</td>\n",
       "      <td>0</td>\n",
       "      <td>0</td>\n",
       "      <td>STON/O2. 3101282</td>\n",
       "      <td>7.9250</td>\n",
       "      <td>NaN</td>\n",
       "      <td>S</td>\n",
       "    </tr>\n",
       "  </tbody>\n",
       "</table>\n",
       "</div>"
      ],
      "text/plain": [
       "   PassengerId  Survived  Pclass  \\\n",
       "0            1         0       3   \n",
       "1            2         1       1   \n",
       "2            3         1       3   \n",
       "\n",
       "                                                Name     Sex   Age  SibSp  \\\n",
       "0                            Braund, Mr. Owen Harris    male  22.0      1   \n",
       "1  Cumings, Mrs. John Bradley (Florence Briggs Th...  female  38.0      1   \n",
       "2                             Heikkinen, Miss. Laina  female  26.0      0   \n",
       "\n",
       "   Parch            Ticket     Fare Cabin Embarked  \n",
       "0      0         A/5 21171   7.2500   NaN        S  \n",
       "1      0          PC 17599  71.2833   C85        C  \n",
       "2      0  STON/O2. 3101282   7.9250   NaN        S  "
      ]
     },
     "execution_count": 6,
     "metadata": {},
     "output_type": "execute_result"
    }
   ],
   "source": [
    "train_data.head(3) # 默认查看五行，设置为3查看三行"
   ]
  },
  {
   "cell_type": "code",
   "execution_count": 7,
   "id": "8f965010",
   "metadata": {},
   "outputs": [
    {
     "name": "stdout",
     "output_type": "stream",
     "text": [
      "<class 'pandas.core.frame.DataFrame'>\n",
      "RangeIndex: 891 entries, 0 to 890\n",
      "Data columns (total 12 columns):\n",
      " #   Column       Non-Null Count  Dtype  \n",
      "---  ------       --------------  -----  \n",
      " 0   PassengerId  891 non-null    int64  \n",
      " 1   Survived     891 non-null    int64  \n",
      " 2   Pclass       891 non-null    int64  \n",
      " 3   Name         891 non-null    object \n",
      " 4   Sex          891 non-null    object \n",
      " 5   Age          714 non-null    float64\n",
      " 6   SibSp        891 non-null    int64  \n",
      " 7   Parch        891 non-null    int64  \n",
      " 8   Ticket       891 non-null    object \n",
      " 9   Fare         891 non-null    float64\n",
      " 10  Cabin        204 non-null    object \n",
      " 11  Embarked     889 non-null    object \n",
      "dtypes: float64(2), int64(5), object(5)\n",
      "memory usage: 83.7+ KB\n"
     ]
    }
   ],
   "source": [
    "# 查看数据的基本信息：（行数、列数、列索引、列类型、列非空值个数、内存占用）\n",
    "train_data.info() # 其中Age只有714个数据，缺少了891-714个数据；Cabin仅有204个，Embarked缺少2个数据"
   ]
  },
  {
   "cell_type": "code",
   "execution_count": 8,
   "id": "f389eb17",
   "metadata": {},
   "outputs": [
    {
     "data": {
      "text/html": [
       "<div>\n",
       "<style scoped>\n",
       "    .dataframe tbody tr th:only-of-type {\n",
       "        vertical-align: middle;\n",
       "    }\n",
       "\n",
       "    .dataframe tbody tr th {\n",
       "        vertical-align: top;\n",
       "    }\n",
       "\n",
       "    .dataframe thead th {\n",
       "        text-align: right;\n",
       "    }\n",
       "</style>\n",
       "<table border=\"1\" class=\"dataframe\">\n",
       "  <thead>\n",
       "    <tr style=\"text-align: right;\">\n",
       "      <th></th>\n",
       "      <th>Survived</th>\n",
       "      <th>Pclass</th>\n",
       "      <th>Sex</th>\n",
       "      <th>Age</th>\n",
       "      <th>SibSp</th>\n",
       "      <th>Parch</th>\n",
       "      <th>Fare</th>\n",
       "      <th>Cabin</th>\n",
       "      <th>Embarked</th>\n",
       "    </tr>\n",
       "  </thead>\n",
       "  <tbody>\n",
       "    <tr>\n",
       "      <th>0</th>\n",
       "      <td>0</td>\n",
       "      <td>3</td>\n",
       "      <td>male</td>\n",
       "      <td>22.0</td>\n",
       "      <td>1</td>\n",
       "      <td>0</td>\n",
       "      <td>7.2500</td>\n",
       "      <td>NaN</td>\n",
       "      <td>S</td>\n",
       "    </tr>\n",
       "    <tr>\n",
       "      <th>1</th>\n",
       "      <td>1</td>\n",
       "      <td>1</td>\n",
       "      <td>female</td>\n",
       "      <td>38.0</td>\n",
       "      <td>1</td>\n",
       "      <td>0</td>\n",
       "      <td>71.2833</td>\n",
       "      <td>C85</td>\n",
       "      <td>C</td>\n",
       "    </tr>\n",
       "    <tr>\n",
       "      <th>2</th>\n",
       "      <td>1</td>\n",
       "      <td>3</td>\n",
       "      <td>female</td>\n",
       "      <td>26.0</td>\n",
       "      <td>0</td>\n",
       "      <td>0</td>\n",
       "      <td>7.9250</td>\n",
       "      <td>NaN</td>\n",
       "      <td>S</td>\n",
       "    </tr>\n",
       "  </tbody>\n",
       "</table>\n",
       "</div>"
      ],
      "text/plain": [
       "   Survived  Pclass     Sex   Age  SibSp  Parch     Fare Cabin Embarked\n",
       "0         0       3    male  22.0      1      0   7.2500   NaN        S\n",
       "1         1       1  female  38.0      1      0  71.2833   C85        C\n",
       "2         1       3  female  26.0      0      0   7.9250   NaN        S"
      ]
     },
     "execution_count": 8,
     "metadata": {},
     "output_type": "execute_result"
    }
   ],
   "source": [
    "# 其中PassengerId、Name、Ticket与是否生存无关，所以删除掉\n",
    "train_data = train_data.drop(['PassengerId', 'Name', 'Ticket'], axis=1)\n",
    "train_data.head(3)"
   ]
  },
  {
   "cell_type": "code",
   "execution_count": 9,
   "id": "9e71795e",
   "metadata": {},
   "outputs": [
    {
     "name": "stdout",
     "output_type": "stream",
     "text": [
      "<class 'pandas.core.frame.DataFrame'>\n",
      "RangeIndex: 891 entries, 0 to 890\n",
      "Data columns (total 9 columns):\n",
      " #   Column    Non-Null Count  Dtype  \n",
      "---  ------    --------------  -----  \n",
      " 0   Survived  891 non-null    int64  \n",
      " 1   Pclass    891 non-null    int64  \n",
      " 2   Sex       891 non-null    object \n",
      " 3   Age       714 non-null    float64\n",
      " 4   SibSp     891 non-null    int64  \n",
      " 5   Parch     891 non-null    int64  \n",
      " 6   Fare      891 non-null    float64\n",
      " 7   Cabin     204 non-null    object \n",
      " 8   Embarked  889 non-null    object \n",
      "dtypes: float64(2), int64(4), object(3)\n",
      "memory usage: 62.8+ KB\n"
     ]
    }
   ],
   "source": [
    "train_data.info() # 其中Age只有714个数据，缺少了891-714个数据；Cabin仅有204个，Embarked缺少2个数据"
   ]
  },
  {
   "cell_type": "code",
   "execution_count": 10,
   "id": "41a64aea",
   "metadata": {},
   "outputs": [
    {
     "name": "stdout",
     "output_type": "stream",
     "text": [
      "生还者总共342人， 死亡者总共549人\n"
     ]
    }
   ],
   "source": [
    "# 891人当中，共有多少人生还\n",
    "total_survived_num = train_data['Survived'].sum()\n",
    "total_no_survived_num = 891 - total_survived_num\n",
    "print(f\"生还者总共{total_survived_num}人， 死亡者总共{total_no_survived_num}人\")"
   ]
  },
  {
   "cell_type": "code",
   "execution_count": 11,
   "id": "413b4b5d",
   "metadata": {},
   "outputs": [
    {
     "data": {
      "image/png": "[encoded data removed]",
      "text/plain": [
       "<Figure size 864x432 with 2 Axes>"
      ]
     },
     "metadata": {
      "needs_background": "light"
     },
     "output_type": "display_data"
    }
   ],
   "source": [
    "# 直接使用plt里的函数绘图\n",
    "plt.figure(figsize=(12, 6)) # 设置图形的宽、高\n",
    "# 绘制柱状图\n",
    "plt.subplot(1, 2, 1) # 然后再对fix创建默认的坐标区（一行两列一个坐标区）\n",
    "# plt.bar(x, y, width，color, edgecolor, bottom, linewidth, align, tick_label, align)\n",
    "plt.bar([1, 0], [total_survived_num, total_no_survived_num], width=0.5)\n",
    "# plt.xticks(ticks=None, labels=None, **kwargs)\n",
    "# 设置坐标轴刻度的标签（传入两个参数，一个是刻度ticks，另一个是标签lables)\n",
    "plt.xticks(ticks=[0, 1])\n",
    "plt.title('Survival Count')\n",
    "plt.xlabel('Survived')\n",
    "plt.ylabel('Count')\n",
    "# 解决中文乱码问题\n",
    "# plt.rcParams['font.sans-serif']=['SimHei'] \n",
    "# plt.figure('Field_survived', facecolor='white')\n",
    "\n",
    "# 绘制饼状图\n",
    "plt.subplot(1, 2, 2)\n",
    "plt.pie([total_survived_num, total_no_survived_num], labels=['Survived', 'No Survived'], autopct=\"%.1f%%\")\n",
    "plt.title('Survival Rate')\n",
    "plt.show()"
   ]
  },
  {
   "cell_type": "code",
   "execution_count": 12,
   "id": "e79d91f4",
   "metadata": {},
   "outputs": [
    {
     "data": {
      "text/html": [
       "<div>\n",
       "<style scoped>\n",
       "    .dataframe tbody tr th:only-of-type {\n",
       "        vertical-align: middle;\n",
       "    }\n",
       "\n",
       "    .dataframe tbody tr th {\n",
       "        vertical-align: top;\n",
       "    }\n",
       "\n",
       "    .dataframe thead th {\n",
       "        text-align: right;\n",
       "    }\n",
       "</style>\n",
       "<table border=\"1\" class=\"dataframe\">\n",
       "  <thead>\n",
       "    <tr style=\"text-align: right;\">\n",
       "      <th></th>\n",
       "      <th>Survived</th>\n",
       "    </tr>\n",
       "    <tr>\n",
       "      <th>Pclass</th>\n",
       "      <th></th>\n",
       "    </tr>\n",
       "  </thead>\n",
       "  <tbody>\n",
       "    <tr>\n",
       "      <th>1</th>\n",
       "      <td>216</td>\n",
       "    </tr>\n",
       "    <tr>\n",
       "      <th>2</th>\n",
       "      <td>184</td>\n",
       "    </tr>\n",
       "    <tr>\n",
       "      <th>3</th>\n",
       "      <td>491</td>\n",
       "    </tr>\n",
       "  </tbody>\n",
       "</table>\n",
       "</div>"
      ],
      "text/plain": [
       "        Survived\n",
       "Pclass          \n",
       "1            216\n",
       "2            184\n",
       "3            491"
      ]
     },
     "execution_count": 12,
     "metadata": {},
     "output_type": "execute_result"
    }
   ],
   "source": [
    "# 下面，分别分析 Pclass、Sex、Age、SibSp、Parch、Fare、Cabin 和 Embarked 等与“生还”的关系\n",
    "# Pclass（客舱等级），不同级别客舱的人数和比例\n",
    "x = train_data[['Pclass', 'Survived']].groupby(['Pclass']).count()\n",
    "x # 客舱等级分为1、2、3，分别有216人，184人，491人"
   ]
  },
  {
   "cell_type": "code",
   "execution_count": 13,
   "id": "d3341c53",
   "metadata": {},
   "outputs": [
    {
     "data": {
      "text/html": [
       "<div>\n",
       "<style scoped>\n",
       "    .dataframe tbody tr th:only-of-type {\n",
       "        vertical-align: middle;\n",
       "    }\n",
       "\n",
       "    .dataframe tbody tr th {\n",
       "        vertical-align: top;\n",
       "    }\n",
       "\n",
       "    .dataframe thead th {\n",
       "        text-align: right;\n",
       "    }\n",
       "</style>\n",
       "<table border=\"1\" class=\"dataframe\">\n",
       "  <thead>\n",
       "    <tr style=\"text-align: right;\">\n",
       "      <th></th>\n",
       "      <th>Survived</th>\n",
       "    </tr>\n",
       "    <tr>\n",
       "      <th>Pclass</th>\n",
       "      <th></th>\n",
       "    </tr>\n",
       "  </thead>\n",
       "  <tbody>\n",
       "    <tr>\n",
       "      <th>1</th>\n",
       "      <td>136</td>\n",
       "    </tr>\n",
       "    <tr>\n",
       "      <th>2</th>\n",
       "      <td>87</td>\n",
       "    </tr>\n",
       "    <tr>\n",
       "      <th>3</th>\n",
       "      <td>119</td>\n",
       "    </tr>\n",
       "  </tbody>\n",
       "</table>\n",
       "</div>"
      ],
      "text/plain": [
       "        Survived\n",
       "Pclass          \n",
       "1            136\n",
       "2             87\n",
       "3            119"
      ]
     },
     "execution_count": 13,
     "metadata": {},
     "output_type": "execute_result"
    }
   ],
   "source": [
    "# 不同级别客舱生还人数\n",
    "x = train_data[train_data['Survived'] == 1]\n",
    "x = x[['Pclass', 'Survived']].groupby('Pclass').count()\n",
    "x"
   ]
  },
  {
   "cell_type": "code",
   "execution_count": 14,
   "id": "203431d5",
   "metadata": {},
   "outputs": [],
   "source": [
    "def picture_bar(s, n, d, labels, title_1, title_2, figsize=(10, 5), width=0.3):\n",
    "    x = np.arange(len(labels)) \n",
    "\n",
    "    # 如果想要设置子图的宽度和高度可以在函数内加入figsize值：\n",
    "    # fig, ax = plt.subplots(1,3,figsize=(15,7))，这样就会有1行3个15x7大小的子图。\n",
    "    fig, (ax1, ax2) = plt.subplots(1, 2, figsize=figsize)\n",
    "    rects1 = ax1.bar(x - width/2, s, width, label='Number of survivors')\n",
    "    rects2 = ax1.bar(x + width/2, d, width, label='death toll')\n",
    "\n",
    "    ax1.set_ylabel('Count')\n",
    "    ax1.set_title(title_1)\n",
    "    ax1.set_xticks(x, labels)\n",
    "    ax1.legend()\n",
    "\n",
    "    #  padding ：标签与柱子之间的距离，单位为像素。浮点数。默认值为0。\n",
    "    ax1.bar_label(rects1, padding=2)\n",
    "    ax1.bar_label(rects2, padding=2)\n",
    "\n",
    "    # print(survived/num)\n",
    "\n",
    "    r = [a/b*100 for a,b in zip(s,n)]\n",
    "    rects = ax2.bar(x, r, width, color='g')\n",
    "    ax2.set_ylabel('Rate')\n",
    "    ax2.set_title(title_2)\n",
    "    ax2.set_xticks(x, labels)\n",
    "    ax2.bar_label(rects, fmt='%.1f%%', padding=2)\n",
    "    # tight_layout会自动调整子图参数，使之填充整个图像区域。\n",
    "    fig.tight_layout() # 有父母子女的存活率：51.2%，没有父母子女的存活率：34.4%\n",
    "    plt.show() # 可以省略"
   ]
  },
  {
   "cell_type": "code",
   "execution_count": 15,
   "id": "60b0773a",
   "metadata": {},
   "outputs": [
    {
     "data": {
      "image/png": "[encoded data removed]",
      "text/plain": [
       "<Figure size 864x360 with 2 Axes>"
      ]
     },
     "metadata": {
      "needs_background": "light"
     },
     "output_type": "display_data"
    }
   ],
   "source": [
    "s = train_data[train_data['Survived'] == 1]\n",
    "s = s[['Pclass', 'Survived']].groupby('Pclass').count()\n",
    "s = s['Survived']\n",
    "n = train_data[['Pclass', 'Survived']].groupby(['Pclass']).count()\n",
    "n = n['Survived']\n",
    "d = train_data[train_data['Survived'] == 0]\n",
    "d = d[['Pclass', 'Survived']].groupby('Pclass').count()\n",
    "d = d['Survived']\n",
    "labels = ['First class cabin', 'Second class cabin', 'Third class cabin']\n",
    "picture_bar(s, n, d, labels, title_1=\"Comparison of survival and death numbers of different classes of pclass\", \n",
    "            title_2=\"Survival rate at all levels\", figsize=(12, 5))"
   ]
  },
  {
   "cell_type": "code",
   "execution_count": 16,
   "id": "1180683e",
   "metadata": {},
   "outputs": [
    {
     "data": {
      "text/html": [
       "<div>\n",
       "<style scoped>\n",
       "    .dataframe tbody tr th:only-of-type {\n",
       "        vertical-align: middle;\n",
       "    }\n",
       "\n",
       "    .dataframe tbody tr th {\n",
       "        vertical-align: top;\n",
       "    }\n",
       "\n",
       "    .dataframe thead th {\n",
       "        text-align: right;\n",
       "    }\n",
       "</style>\n",
       "<table border=\"1\" class=\"dataframe\">\n",
       "  <thead>\n",
       "    <tr style=\"text-align: right;\">\n",
       "      <th></th>\n",
       "      <th>Survived</th>\n",
       "    </tr>\n",
       "    <tr>\n",
       "      <th>Sex</th>\n",
       "      <th></th>\n",
       "    </tr>\n",
       "  </thead>\n",
       "  <tbody>\n",
       "    <tr>\n",
       "      <th>female</th>\n",
       "      <td>314</td>\n",
       "    </tr>\n",
       "    <tr>\n",
       "      <th>male</th>\n",
       "      <td>577</td>\n",
       "    </tr>\n",
       "  </tbody>\n",
       "</table>\n",
       "</div>"
      ],
      "text/plain": [
       "        Survived\n",
       "Sex             \n",
       "female       314\n",
       "male         577"
      ]
     },
     "execution_count": 16,
     "metadata": {},
     "output_type": "execute_result"
    }
   ],
   "source": [
    "# Sex(性别)\n",
    "# 不同性别人数比例及生还率\n",
    "x = train_data[['Sex','Survived']].groupby('Sex').count()\n",
    "x"
   ]
  },
  {
   "cell_type": "code",
   "execution_count": 17,
   "id": "648ac62a",
   "metadata": {},
   "outputs": [
    {
     "data": {
      "text/html": [
       "<div>\n",
       "<style scoped>\n",
       "    .dataframe tbody tr th:only-of-type {\n",
       "        vertical-align: middle;\n",
       "    }\n",
       "\n",
       "    .dataframe tbody tr th {\n",
       "        vertical-align: top;\n",
       "    }\n",
       "\n",
       "    .dataframe thead th {\n",
       "        text-align: right;\n",
       "    }\n",
       "</style>\n",
       "<table border=\"1\" class=\"dataframe\">\n",
       "  <thead>\n",
       "    <tr style=\"text-align: right;\">\n",
       "      <th></th>\n",
       "      <th>Survived</th>\n",
       "    </tr>\n",
       "    <tr>\n",
       "      <th>Sex</th>\n",
       "      <th></th>\n",
       "    </tr>\n",
       "  </thead>\n",
       "  <tbody>\n",
       "    <tr>\n",
       "      <th>female</th>\n",
       "      <td>233</td>\n",
       "    </tr>\n",
       "    <tr>\n",
       "      <th>male</th>\n",
       "      <td>109</td>\n",
       "    </tr>\n",
       "  </tbody>\n",
       "</table>\n",
       "</div>"
      ],
      "text/plain": [
       "        Survived\n",
       "Sex             \n",
       "female       233\n",
       "male         109"
      ]
     },
     "execution_count": 17,
     "metadata": {},
     "output_type": "execute_result"
    }
   ],
   "source": [
    "x = train_data[train_data['Survived'] == 1]\n",
    "x = x[['Sex', 'Survived']].groupby('Sex').count()\n",
    "x"
   ]
  },
  {
   "cell_type": "code",
   "execution_count": 18,
   "id": "cda4c9ef",
   "metadata": {},
   "outputs": [
    {
     "data": {
      "image/png": "[encoded data removed]",
      "text/plain": [
       "<Figure size 864x360 with 2 Axes>"
      ]
     },
     "metadata": {
      "needs_background": "light"
     },
     "output_type": "display_data"
    }
   ],
   "source": [
    "s = train_data[train_data['Survived'] == 1]\n",
    "s = s[['Sex', 'Survived']].groupby('Sex').count()\n",
    "s = s['Survived']\n",
    "n = train_data[['Sex', 'Survived']].groupby(['Sex']).count()\n",
    "n = n['Survived']\n",
    "d = train_data[train_data['Survived'] == 0]\n",
    "d = d[['Sex', 'Survived']].groupby('Sex').count()\n",
    "d = d['Survived']\n",
    "labels = ['female', 'male']\n",
    "picture_bar(s, n, d, labels, title_1=\"Comparison of survival and death numbers by gender\", \n",
    "            title_2=\"Survival rates by gender\", figsize=(12, 5))"
   ]
  },
  {
   "cell_type": "code",
   "execution_count": 19,
   "id": "a8a919d0",
   "metadata": {},
   "outputs": [
    {
     "name": "stdout",
     "output_type": "stream",
     "text": [
      "缺少的年龄数:177\n",
      "年龄平均值:29.69911764705882\n"
     ]
    }
   ],
   "source": [
    "# Age(年龄)\n",
    "# 不同年龄比例及生还率\n",
    "# 由于Age是有缺失值的，所以先处理缺失值问题。填充的年龄为年龄平均值。\n",
    "# 查看缺少的年龄数\n",
    "nan_age_count = train_data['Age'].isnull().sum()\n",
    "print(f\"缺少的年龄数:{nan_age_count}\")\n",
    "# 求年龄平均值\n",
    "avg_age = train_data['Age'].mean()\n",
    "print(f\"年龄平均值:{avg_age}\")\n",
    "# 填充缺失的年龄\n",
    "train_data['Age'] = train_data['Age'].fillna(avg_age)"
   ]
  },
  {
   "cell_type": "code",
   "execution_count": 20,
   "id": "b6b36688",
   "metadata": {},
   "outputs": [
    {
     "data": {
      "text/plain": [
       "count    891.000000\n",
       "mean      29.699118\n",
       "std       13.002015\n",
       "min        0.420000\n",
       "25%       22.000000\n",
       "50%       29.699118\n",
       "75%       35.000000\n",
       "max       80.000000\n",
       "Name: Age, dtype: float64"
      ]
     },
     "execution_count": 20,
     "metadata": {},
     "output_type": "execute_result"
    }
   ],
   "source": [
    "train_data['Age'].describe()"
   ]
  },
  {
   "cell_type": "code",
   "execution_count": 21,
   "id": "3a60994a",
   "metadata": {},
   "outputs": [
    {
     "data": {
      "image/png": "[encoded data removed]",
      "text/plain": [
       "<Figure size 864x360 with 2 Axes>"
      ]
     },
     "metadata": {
      "needs_background": "light"
     },
     "output_type": "display_data"
    }
   ],
   "source": [
    "# 查看年龄分布\n",
    "plt.figure(figsize=(12, 5))\n",
    "# 绘制年龄分布图\n",
    "plt.subplot(1, 2, 1)\n",
    "# 直方图是一种可视化在连续间隔，或者是特定时间段内数据分布情况的图表。直方图描述的是一组数据的频次分布。\n",
    "train_data['Age'].hist(bins = 70) # bins,数据划分的份数\n",
    "plt.xlabel('Age')\n",
    "plt.ylabel('Num')\n",
    "# 绘制年龄分布图\n",
    "plt.subplot(1, 2, 2)\n",
    "train_data.boxplot(column='Age', showfliers=False)# 表示是否显示异常值，默认显示。\n",
    "plt.show() # 表示是否显示异常值，默认显示。"
   ]
  },
  {
   "cell_type": "code",
   "execution_count": 22,
   "id": "929479f2",
   "metadata": {},
   "outputs": [],
   "source": [
    "# 按照年龄，将乘客划分为儿童，少年，成年人，老年人，分析四个群体的生还情况\n",
    "children_df = train_data[train_data['Age'] <= 12]\n",
    "juvenile_df = train_data[(train_data['Age'] > 12) & (train_data['Age'] < 18)]\n",
    "adults_df = train_data[(train_data['Age'] >= 18) & (train_data['Age'] < 65)]\n",
    "agedness_df = train_data[train_data['Age'] >= 65]"
   ]
  },
  {
   "cell_type": "code",
   "execution_count": 23,
   "id": "c019bcb0",
   "metadata": {},
   "outputs": [
    {
     "data": {
      "text/plain": [
       "(69, 44, 767, 11)"
      ]
     },
     "execution_count": 23,
     "metadata": {},
     "output_type": "execute_result"
    }
   ],
   "source": [
    "# 儿童数量\n",
    "children_count = children_df['Survived'].count()\n",
    "# 少年数量\n",
    "juvenile_count = juvenile_df['Survived'].count()\n",
    "# 成年人数量\n",
    "adults_count = adults_df['Survived'].count()\n",
    "# 老年人数量\n",
    "agedness_count = agedness_df['Survived'].count()\n",
    "children_count, juvenile_count, adults_count, agedness_count"
   ]
  },
  {
   "cell_type": "code",
   "execution_count": 24,
   "id": "423d329a",
   "metadata": {},
   "outputs": [
    {
     "data": {
      "text/plain": [
       "(40, 21, 280, 1)"
      ]
     },
     "execution_count": 24,
     "metadata": {},
     "output_type": "execute_result"
    }
   ],
   "source": [
    "# 儿童中存活的数量\n",
    "children_survived_count = children_df['Survived'].sum()\n",
    "# 少年中存活的数量\n",
    "juvenile_survived_count = juvenile_df['Survived'].sum()\n",
    "# 成年人中存活的数量\n",
    "adults_survived_count = adults_df['Survived'].sum()\n",
    "# 老年人中存活的数量\n",
    "agedness_survived_count = agedness_df['Survived'].sum()\n",
    "children_survived_count, juvenile_survived_count, adults_survived_count, agedness_survived_count"
   ]
  },
  {
   "cell_type": "code",
   "execution_count": 25,
   "id": "d904e8b0",
   "metadata": {},
   "outputs": [
    {
     "data": {
      "image/png": "[encoded data removed]",
      "text/plain": [
       "<Figure size 864x360 with 2 Axes>"
      ]
     },
     "metadata": {
      "needs_background": "light"
     },
     "output_type": "display_data"
    }
   ],
   "source": [
    "s = [children_survived_count, juvenile_survived_count, adults_survived_count, agedness_survived_count]\n",
    "n = [children_count, juvenile_count, adults_count, agedness_count]\n",
    "# 死亡人数列表\n",
    "d = [b - a for a,b in zip(s, n)]\n",
    "labels = ['children', 'juvenile', 'adults', 'agedness']\n",
    "picture_bar(s, n, d, labels, title_1=\"Comparison of survival and death numbers in different age groups\", \n",
    "            title_2=\"Survival rate of different age groups\", figsize=(12, 5))"
   ]
  },
  {
   "cell_type": "code",
   "execution_count": 26,
   "id": "25b805aa",
   "metadata": {},
   "outputs": [
    {
     "data": {
      "text/plain": [
       "(283, 608)"
      ]
     },
     "execution_count": 26,
     "metadata": {},
     "output_type": "execute_result"
    }
   ],
   "source": [
    "# SibSp（兄弟姐妹）\n",
    "# 有兄弟姐妹的乘客生还人数和生还率\n",
    "sibsp_df = train_data[train_data['SibSp'] != 0]\n",
    "no_sibsp_df = train_data[train_data['SibSp'] == 0]\n",
    "# 有兄弟姐妹的乘客数\n",
    "sibsp_count = sibsp_df['Survived'].count()\n",
    "# 没有兄弟姐妹的乘客数\n",
    "no_sibsp_count = no_sibsp_df['Survived'].count()\n",
    "sibsp_count, no_sibsp_count"
   ]
  },
  {
   "cell_type": "code",
   "execution_count": 27,
   "id": "08da94fd",
   "metadata": {},
   "outputs": [
    {
     "data": {
      "text/plain": [
       "(132, 210)"
      ]
     },
     "execution_count": 27,
     "metadata": {},
     "output_type": "execute_result"
    }
   ],
   "source": [
    "# 有兄弟姐妹的乘客生还数\n",
    "sibsp_survived_count = sibsp_df['Survived'].sum()\n",
    "# 没有兄弟姐妹的乘客生还数\n",
    "no_sibsp_survived_count = no_sibsp_df['Survived'].sum()\n",
    "sibsp_survived_count, no_sibsp_survived_count"
   ]
  },
  {
   "cell_type": "code",
   "execution_count": 28,
   "id": "bf8c41b3",
   "metadata": {},
   "outputs": [
    {
     "data": {
      "image/png": "[encoded data removed]",
      "text/plain": [
       "<Figure size 864x360 with 2 Axes>"
      ]
     },
     "metadata": {
      "needs_background": "light"
     },
     "output_type": "display_data"
    }
   ],
   "source": [
    "labels = ['sibsp', 'no_sibsp']\n",
    "s = [sibsp_survived_count, no_sibsp_survived_count]\n",
    "n = [sibsp_count, no_sibsp_count]\n",
    "d = [b - a for a,b in zip(s,n)]\n",
    "picture_bar(s, n, d, labels, title_1=\"Comparison of the number of survivors and deaths with or without siblings\", \n",
    "            title_2=\"Survival rate with or without siblings\", figsize=(12,5))"
   ]
  },
  {
   "cell_type": "code",
   "execution_count": 29,
   "id": "305311ea",
   "metadata": {},
   "outputs": [
    {
     "data": {
      "text/plain": [
       "(213, 678)"
      ]
     },
     "execution_count": 29,
     "metadata": {},
     "output_type": "execute_result"
    }
   ],
   "source": [
    "# Parch（父母子女）\n",
    "# 有父母子女的乘客生还人数和生还率\n",
    "parch_df = train_data[train_data['Parch'] != 0]\n",
    "no_parch_df = train_data[train_data['Parch'] == 0]\n",
    "# 有父母子女的乘客数\n",
    "parch_count = parch_df['Survived'].count()\n",
    "# 没有父母子女的乘客数\n",
    "no_parch_count = no_parch_df['Survived'].count()\n",
    "parch_count, no_parch_count"
   ]
  },
  {
   "cell_type": "code",
   "execution_count": 30,
   "id": "f8a49373",
   "metadata": {},
   "outputs": [
    {
     "data": {
      "text/plain": [
       "(109, 233)"
      ]
     },
     "execution_count": 30,
     "metadata": {},
     "output_type": "execute_result"
    }
   ],
   "source": [
    "# 有父母子女的乘客生还数\n",
    "parch_survived_count = parch_df['Survived'].sum()\n",
    "# 没有父母子女的乘客生还数\n",
    "no_parch_survived_count = no_parch_df['Survived'].sum()\n",
    "parch_survived_count, no_parch_survived_count"
   ]
  },
  {
   "cell_type": "code",
   "execution_count": 31,
   "id": "fd7ccbc9",
   "metadata": {},
   "outputs": [
    {
     "data": {
      "image/png": "[encoded data removed]",
      "text/plain": [
       "<Figure size 864x360 with 2 Axes>"
      ]
     },
     "metadata": {
      "needs_background": "light"
     },
     "output_type": "display_data"
    }
   ],
   "source": [
    "labels = ['parch', 'no_parch']\n",
    "s = [parch_survived_count, no_parch_survived_count]\n",
    "# print(s)\n",
    "n = [parch_count, no_parch_count]\n",
    "d = [b - a for a,b in zip(s,n)]\n",
    "picture_bar(s, n, d, labels, title_1=\"Comparison of the number of survivors and deaths with or without Parents and children\", \n",
    "            title_2=\"Survival rate with or without parents and children\", figsize=(12,5))"
   ]
  },
  {
   "cell_type": "code",
   "execution_count": 32,
   "id": "0eac7749",
   "metadata": {},
   "outputs": [
    {
     "data": {
      "text/plain": [
       "count    891.000000\n",
       "mean      32.204208\n",
       "std       49.693429\n",
       "min        0.000000\n",
       "25%        7.910400\n",
       "50%       14.454200\n",
       "75%       31.000000\n",
       "max      512.329200\n",
       "Name: Fare, dtype: float64"
      ]
     },
     "execution_count": 32,
     "metadata": {},
     "output_type": "execute_result"
    }
   ],
   "source": [
    "# 票价分布\n",
    "train_data['Fare'].describe()"
   ]
  },
  {
   "cell_type": "code",
   "execution_count": 33,
   "id": "8b0d3897",
   "metadata": {},
   "outputs": [
    {
     "data": {
      "image/png": "[encoded data removed]",
      "text/plain": [
       "<Figure size 864x360 with 2 Axes>"
      ]
     },
     "metadata": {
      "needs_background": "light"
     },
     "output_type": "display_data"
    }
   ],
   "source": [
    "# 绘制所有的票价分布图\n",
    "plt.figure(figsize=(12, 5))\n",
    "# 绘制票价分布图\n",
    "plt.subplot(1, 2, 1)\n",
    "train_data['Fare'].hist(bins = 20)\n",
    "plt.xlabel('Fare')\n",
    "plt.ylabel('Count')\n",
    "# 绘制盒图\n",
    "plt.subplot(1, 2, 2)\n",
    "train_data.boxplot(column='Fare', showfliers=False)\n",
    "plt.show()"
   ]
  },
  {
   "cell_type": "code",
   "execution_count": 34,
   "id": "a5607c52",
   "metadata": {},
   "outputs": [
    {
     "data": {
      "image/png": "[encoded data removed]",
      "text/plain": [
       "<Figure size 864x360 with 2 Axes>"
      ]
     },
     "metadata": {
      "needs_background": "light"
     },
     "output_type": "display_data"
    }
   ],
   "source": [
    "# 绘制存活乘客的票价分布图\n",
    "plt.figure(figsize=(12, 5))\n",
    "# 绘制存活乘客的票价分布图\n",
    "plt.subplot(1, 2, 1)\n",
    "train_data[train_data['Survived'] == 1]['Fare'].hist(bins = 20)\n",
    "plt.xlabel('Fare')\n",
    "plt.ylabel('Count')\n",
    "# 绘制存活乘客的票价盒图\n",
    "plt.subplot(1, 2, 2)\n",
    "train_data[train_data['Survived'] == 1].boxplot(column='Fare', showfliers=False)\n",
    "plt.show()"
   ]
  },
  {
   "cell_type": "code",
   "execution_count": 35,
   "id": "d1084830",
   "metadata": {},
   "outputs": [],
   "source": [
    "# Cabin(船舱)\n",
    "# 丢失值太多，不能用此数据分析出Cabin对生存率的影响，丢掉\n",
    "train_data = train_data.drop('Cabin', axis=1)"
   ]
  },
  {
   "cell_type": "code",
   "execution_count": 36,
   "id": "2fc5951f",
   "metadata": {},
   "outputs": [
    {
     "name": "stdout",
     "output_type": "stream",
     "text": [
      "<class 'pandas.core.frame.DataFrame'>\n",
      "RangeIndex: 891 entries, 0 to 890\n",
      "Data columns (total 8 columns):\n",
      " #   Column    Non-Null Count  Dtype  \n",
      "---  ------    --------------  -----  \n",
      " 0   Survived  891 non-null    int64  \n",
      " 1   Pclass    891 non-null    int64  \n",
      " 2   Sex       891 non-null    object \n",
      " 3   Age       891 non-null    float64\n",
      " 4   SibSp     891 non-null    int64  \n",
      " 5   Parch     891 non-null    int64  \n",
      " 6   Fare      891 non-null    float64\n",
      " 7   Embarked  889 non-null    object \n",
      "dtypes: float64(2), int64(4), object(2)\n",
      "memory usage: 55.8+ KB\n"
     ]
    }
   ],
   "source": [
    "train_data.info()"
   ]
  },
  {
   "cell_type": "code",
   "execution_count": 37,
   "id": "5fcfce3c",
   "metadata": {},
   "outputs": [
    {
     "data": {
      "text/plain": [
       "S    644\n",
       "C    168\n",
       "Q     77\n",
       "Name: Embarked, dtype: int64"
      ]
     },
     "execution_count": 37,
     "metadata": {},
     "output_type": "execute_result"
    }
   ],
   "source": [
    "# Embarked（登船港口）\n",
    "# 各个港口上船人数及生还率\n",
    "# 由于Embarked有两个缺失值，所以这里使用众数来填充\n",
    "# 统计各个（港口）出现的次数\n",
    "train_data['Embarked'].value_counts()"
   ]
  },
  {
   "cell_type": "code",
   "execution_count": 38,
   "id": "30ec5bae",
   "metadata": {},
   "outputs": [],
   "source": [
    "# S出现的次数最多，所以用S来填充两个缺失的数\n",
    "train_data['Embarked'] = train_data['Embarked'].fillna('S')"
   ]
  },
  {
   "cell_type": "code",
   "execution_count": 39,
   "id": "6f1fe78c",
   "metadata": {},
   "outputs": [
    {
     "name": "stdout",
     "output_type": "stream",
     "text": [
      "<class 'pandas.core.frame.DataFrame'>\n",
      "RangeIndex: 891 entries, 0 to 890\n",
      "Data columns (total 8 columns):\n",
      " #   Column    Non-Null Count  Dtype  \n",
      "---  ------    --------------  -----  \n",
      " 0   Survived  891 non-null    int64  \n",
      " 1   Pclass    891 non-null    int64  \n",
      " 2   Sex       891 non-null    object \n",
      " 3   Age       891 non-null    float64\n",
      " 4   SibSp     891 non-null    int64  \n",
      " 5   Parch     891 non-null    int64  \n",
      " 6   Fare      891 non-null    float64\n",
      " 7   Embarked  891 non-null    object \n",
      "dtypes: float64(2), int64(4), object(2)\n",
      "memory usage: 55.8+ KB\n"
     ]
    }
   ],
   "source": [
    "train_data.info()"
   ]
  },
  {
   "cell_type": "code",
   "execution_count": 40,
   "id": "3dca6849",
   "metadata": {},
   "outputs": [
    {
     "data": {
      "text/plain": [
       "S    646\n",
       "C    168\n",
       "Q     77\n",
       "Name: Embarked, dtype: int64"
      ]
     },
     "execution_count": 40,
     "metadata": {},
     "output_type": "execute_result"
    }
   ],
   "source": [
    "# 填充后，各个港口登船的乘客数\n",
    "n = train_data['Embarked'].value_counts()\n",
    "n"
   ]
  },
  {
   "cell_type": "code",
   "execution_count": 41,
   "id": "c421fb73",
   "metadata": {},
   "outputs": [
    {
     "data": {
      "text/plain": [
       "(S    219\n",
       " C     93\n",
       " Q     30\n",
       " Name: Embarked, dtype: int64,\n",
       " S    427\n",
       " C     75\n",
       " Q     47\n",
       " Name: Embarked, dtype: int64)"
      ]
     },
     "execution_count": 41,
     "metadata": {},
     "output_type": "execute_result"
    }
   ],
   "source": [
    "# 海难后，各个港口登船的存活乘客数\n",
    "s = train_data[train_data['Survived'] == 1]['Embarked'].value_counts()\n",
    "d = train_data[train_data['Survived'] == 0]['Embarked'].value_counts()\n",
    "s, d"
   ]
  },
  {
   "cell_type": "code",
   "execution_count": 42,
   "id": "413918a5",
   "metadata": {},
   "outputs": [
    {
     "data": {
      "image/png": "[encoded data removed]",
      "text/plain": [
       "<Figure size 864x360 with 2 Axes>"
      ]
     },
     "metadata": {
      "needs_background": "light"
     },
     "output_type": "display_data"
    }
   ],
   "source": [
    "# 统计各个港口登船的存活率\n",
    "s = [219, 93, 30]\n",
    "n = [646, 168, 77]\n",
    "d = [427, 75, 47]\n",
    "# print(s, n, d)\n",
    "labels = ['S', 'C', 'Q']\n",
    "picture_bar(s, n, d, labels, title_1=\"Comparison of survival and death of boarding at various ports\", \n",
    "            title_2=\"Survival rate of boarding at each port\", figsize=(12,5), width=0.35)\n",
    "# S港口存活率：33.9%，C港口存活率：55.4%，Q港口存活率：39.0%"
   ]
  },
  {
   "cell_type": "code",
   "execution_count": 43,
   "id": "f72b682f",
   "metadata": {},
   "outputs": [
    {
     "name": "stdout",
     "output_type": "stream",
     "text": [
      "<class 'pandas.core.frame.DataFrame'>\n",
      "RangeIndex: 1309 entries, 0 to 1308\n",
      "Data columns (total 12 columns):\n",
      " #   Column       Non-Null Count  Dtype  \n",
      "---  ------       --------------  -----  \n",
      " 0   PassengerId  1309 non-null   int64  \n",
      " 1   Survived     891 non-null    float64\n",
      " 2   Pclass       1309 non-null   int64  \n",
      " 3   Name         1309 non-null   object \n",
      " 4   Sex          1309 non-null   object \n",
      " 5   Age          1046 non-null   float64\n",
      " 6   SibSp        1309 non-null   int64  \n",
      " 7   Parch        1309 non-null   int64  \n",
      " 8   Ticket       1309 non-null   object \n",
      " 9   Fare         1308 non-null   float64\n",
      " 10  Cabin        295 non-null    object \n",
      " 11  Embarked     1307 non-null   object \n",
      "dtypes: float64(3), int64(4), object(5)\n",
      "memory usage: 122.8+ KB\n"
     ]
    }
   ],
   "source": [
    "\"\"\"本次分析主要寻找了泰坦尼克号上的生还率与各因素（客舱等级、年龄、性别、上船港口等）的关系。\n",
    "\n",
    "样本数量为891，海难发生后，生还者还剩342人，生还率为38.4%。\n",
    "\n",
    "泰坦尼克号上有一、二、三等舱三种船舱类型。\n",
    "海难发生前，一等舱有 216 人，二等舱 184 人，三等舱 491 人，分别占总人数的 24%， 21%， 55%。\n",
    "海难发生后，一等舱、二等舱、三等舱的乘客人数变为136、87、119人，分别占总人数的 40%, 25%, 35%。\n",
    "一等舱生还率为 63%，二等舱为 47%，三等舱为 24%。可见客舱等级越高，生还率越高。\n",
    "\n",
    "海难发生前，男性共577人，女性314人，男女比例为 65% 和 35%。\n",
    "海难发生后，男性变为109人，女性变为233人，男女比例变为 32% 和 68%。\n",
    "男性生还109人，生还率仅为19%。女性生还233人，生还率为74%，远远高于男性的19%。可见女性比男性在这次事故中更容易生还，表明“女士优先”的原则在本次事故中得到了发扬。\n",
    "\n",
    "样本的891人中，平均年龄约为30岁， 标准差15岁，最小年龄为0.42，最大年龄80。按照儿童（0-12）、少年（12-18）、成人（18-65）、老年人（65及以上）划分为四类。\n",
    "四类人的生还率分别为58%，48%，39% 和9%。可见年龄越大，生还率越低。“尊老爱幼”的原则在本次事故中没有很好体现。\n",
    "\n",
    "有兄弟姐妹的乘客有283人，生还132人，生还率为47%，\n",
    "而没有兄弟姐妹的乘客，有608人，生还210人，生还率为35%。可见有兄弟姐妹同船的生还率比没有兄弟姐妹同船的生还率要高。\n",
    "\n",
    "有父母或子女同船的乘客有213人，生还109人，生还率为51%。\n",
    "没有父母子女同船的乘客有678人，生还233人，生还率仅为34%。\n",
    "可见有父母或子女同船的生还率比没有的生还率要高。综合前一条分析，可以得出推论，有家人在船上的比没有家人在船上的生还概率要大。\n",
    "\n",
    "票价与生还有一定相关性，生还者的平均票价要比未生还的高。\n",
    "\n",
    "S港口生还人数最多，C次之，Q最少。从生\n",
    "还率来看，C港上船的生还率最高，Q次之，S生还率最低。\"\"\"\n",
    "# 构建模型训练\n",
    "# 1.处理数据缺失值\n",
    "train_data = pd.read_csv(TRAIN_PATH) # 891条\n",
    "test_data = pd.read_csv(TEST_PATH) # 418条\n",
    "# 将训练数据和测试数据先进行纵向堆叠，方便统一进行数据处理\n",
    "full = pd.concat([train_data, test_data], axis=0, ignore_index=True)\n",
    "full.info()"
   ]
  },
  {
   "cell_type": "code",
   "execution_count": 44,
   "id": "72aa6781",
   "metadata": {},
   "outputs": [
    {
     "name": "stdout",
     "output_type": "stream",
     "text": [
      "<class 'pandas.core.frame.DataFrame'>\n",
      "RangeIndex: 1309 entries, 0 to 1308\n",
      "Data columns (total 8 columns):\n",
      " #   Column    Non-Null Count  Dtype  \n",
      "---  ------    --------------  -----  \n",
      " 0   Survived  891 non-null    float64\n",
      " 1   Pclass    1309 non-null   int64  \n",
      " 2   Sex       1309 non-null   object \n",
      " 3   Age       1046 non-null   float64\n",
      " 4   SibSp     1309 non-null   int64  \n",
      " 5   Parch     1309 non-null   int64  \n",
      " 6   Fare      1308 non-null   float64\n",
      " 7   Embarked  1307 non-null   object \n",
      "dtypes: float64(3), int64(3), object(2)\n",
      "memory usage: 81.9+ KB\n"
     ]
    }
   ],
   "source": [
    "# 删除不需要的数据\n",
    "full = full.drop(['PassengerId', 'Name', 'Ticket', 'Cabin'], axis=1)\n",
    "full.info()"
   ]
  },
  {
   "cell_type": "code",
   "execution_count": 45,
   "id": "5b496730",
   "metadata": {},
   "outputs": [],
   "source": [
    "# 填充age中的缺失值\n",
    "full['Age'] = full['Age'].fillna(full['Age'].mean())\n",
    "# 填充fare中的缺失值\n",
    "full['Fare'] = full['Fare'].fillna(full['Fare'].mean())"
   ]
  },
  {
   "cell_type": "code",
   "execution_count": 46,
   "id": "fe92d726",
   "metadata": {},
   "outputs": [
    {
     "name": "stdout",
     "output_type": "stream",
     "text": [
      "<class 'pandas.core.frame.DataFrame'>\n",
      "RangeIndex: 1309 entries, 0 to 1308\n",
      "Data columns (total 8 columns):\n",
      " #   Column    Non-Null Count  Dtype  \n",
      "---  ------    --------------  -----  \n",
      " 0   Survived  891 non-null    float64\n",
      " 1   Pclass    1309 non-null   int64  \n",
      " 2   Sex       1309 non-null   object \n",
      " 3   Age       1309 non-null   float64\n",
      " 4   SibSp     1309 non-null   int64  \n",
      " 5   Parch     1309 non-null   int64  \n",
      " 6   Fare      1309 non-null   float64\n",
      " 7   Embarked  1307 non-null   object \n",
      "dtypes: float64(3), int64(3), object(2)\n",
      "memory usage: 81.9+ KB\n"
     ]
    }
   ],
   "source": [
    "full.info()"
   ]
  },
  {
   "cell_type": "code",
   "execution_count": 47,
   "id": "2093cef7",
   "metadata": {},
   "outputs": [
    {
     "data": {
      "text/plain": [
       "S    914\n",
       "C    270\n",
       "Q    123\n",
       "Name: Embarked, dtype: int64"
      ]
     },
     "execution_count": 47,
     "metadata": {},
     "output_type": "execute_result"
    }
   ],
   "source": [
    "# 使用众数填充embarked中的数据\n",
    "full['Embarked'].value_counts()"
   ]
  },
  {
   "cell_type": "code",
   "execution_count": 48,
   "id": "a26a5c1c",
   "metadata": {},
   "outputs": [],
   "source": [
    "full['Embarked'] = full['Embarked'].fillna('S')"
   ]
  },
  {
   "cell_type": "code",
   "execution_count": 49,
   "id": "ffa8b527",
   "metadata": {},
   "outputs": [
    {
     "name": "stdout",
     "output_type": "stream",
     "text": [
      "<class 'pandas.core.frame.DataFrame'>\n",
      "RangeIndex: 1309 entries, 0 to 1308\n",
      "Data columns (total 8 columns):\n",
      " #   Column    Non-Null Count  Dtype  \n",
      "---  ------    --------------  -----  \n",
      " 0   Survived  891 non-null    float64\n",
      " 1   Pclass    1309 non-null   int64  \n",
      " 2   Sex       1309 non-null   object \n",
      " 3   Age       1309 non-null   float64\n",
      " 4   SibSp     1309 non-null   int64  \n",
      " 5   Parch     1309 non-null   int64  \n",
      " 6   Fare      1309 non-null   float64\n",
      " 7   Embarked  1309 non-null   object \n",
      "dtypes: float64(3), int64(3), object(2)\n",
      "memory usage: 81.9+ KB\n"
     ]
    }
   ],
   "source": [
    "full.info()"
   ]
  },
  {
   "cell_type": "code",
   "execution_count": 50,
   "id": "398ee47c",
   "metadata": {},
   "outputs": [
    {
     "data": {
      "text/plain": [
       "0      male\n",
       "1    female\n",
       "2    female\n",
       "3    female\n",
       "4      male\n",
       "Name: Sex, dtype: object"
      ]
     },
     "execution_count": 50,
     "metadata": {},
     "output_type": "execute_result"
    }
   ],
   "source": [
    "# 2.处理字符串和类别\n",
    "# 2.1 处理性别\n",
    "full['Sex'].head()"
   ]
  },
  {
   "cell_type": "code",
   "execution_count": 51,
   "id": "9ebd0904",
   "metadata": {},
   "outputs": [],
   "source": [
    "# 将性别的值映射成数值\n",
    "sex_2_dict = {\"male\":0, \"female\":1}\n",
    "full['Sex'] = full['Sex'].map(sex_2_dict)"
   ]
  },
  {
   "cell_type": "code",
   "execution_count": 52,
   "id": "a583b7f9",
   "metadata": {},
   "outputs": [
    {
     "data": {
      "text/plain": [
       "0    0\n",
       "1    1\n",
       "2    1\n",
       "3    1\n",
       "4    0\n",
       "Name: Sex, dtype: int64"
      ]
     },
     "execution_count": 52,
     "metadata": {},
     "output_type": "execute_result"
    }
   ],
   "source": [
    "full['Sex'].head()"
   ]
  },
  {
   "cell_type": "code",
   "execution_count": 53,
   "id": "fd9adb39",
   "metadata": {},
   "outputs": [
    {
     "data": {
      "text/plain": [
       "0    3\n",
       "1    1\n",
       "2    3\n",
       "3    1\n",
       "4    3\n",
       "Name: Pclass, dtype: int64"
      ]
     },
     "execution_count": 53,
     "metadata": {},
     "output_type": "execute_result"
    }
   ],
   "source": [
    "# 2.2 处理客舱类别\n",
    "full['Pclass'].head()"
   ]
  },
  {
   "cell_type": "code",
   "execution_count": 54,
   "id": "dc19475e",
   "metadata": {},
   "outputs": [
    {
     "data": {
      "text/html": [
       "<div>\n",
       "<style scoped>\n",
       "    .dataframe tbody tr th:only-of-type {\n",
       "        vertical-align: middle;\n",
       "    }\n",
       "\n",
       "    .dataframe tbody tr th {\n",
       "        vertical-align: top;\n",
       "    }\n",
       "\n",
       "    .dataframe thead th {\n",
       "        text-align: right;\n",
       "    }\n",
       "</style>\n",
       "<table border=\"1\" class=\"dataframe\">\n",
       "  <thead>\n",
       "    <tr style=\"text-align: right;\">\n",
       "      <th></th>\n",
       "      <th>Pclass_1</th>\n",
       "      <th>Pclass_2</th>\n",
       "      <th>Pclass_3</th>\n",
       "    </tr>\n",
       "  </thead>\n",
       "  <tbody>\n",
       "    <tr>\n",
       "      <th>0</th>\n",
       "      <td>0</td>\n",
       "      <td>0</td>\n",
       "      <td>1</td>\n",
       "    </tr>\n",
       "    <tr>\n",
       "      <th>1</th>\n",
       "      <td>1</td>\n",
       "      <td>0</td>\n",
       "      <td>0</td>\n",
       "    </tr>\n",
       "    <tr>\n",
       "      <th>2</th>\n",
       "      <td>0</td>\n",
       "      <td>0</td>\n",
       "      <td>1</td>\n",
       "    </tr>\n",
       "    <tr>\n",
       "      <th>3</th>\n",
       "      <td>1</td>\n",
       "      <td>0</td>\n",
       "      <td>0</td>\n",
       "    </tr>\n",
       "    <tr>\n",
       "      <th>4</th>\n",
       "      <td>0</td>\n",
       "      <td>0</td>\n",
       "      <td>1</td>\n",
       "    </tr>\n",
       "  </tbody>\n",
       "</table>\n",
       "</div>"
      ],
      "text/plain": [
       "   Pclass_1  Pclass_2  Pclass_3\n",
       "0         0         0         1\n",
       "1         1         0         0\n",
       "2         0         0         1\n",
       "3         1         0         0\n",
       "4         0         0         1"
      ]
     },
     "execution_count": 54,
     "metadata": {},
     "output_type": "execute_result"
    }
   ],
   "source": [
    "# 存放提取后的特征\n",
    "pClassDf = pd.DataFrame()# ？？？\n",
    "# 将船舱类别转换为one-hot编码格式\n",
    "pClassDf = pd.get_dummies(full['Pclass'], prefix='Pclass')\n",
    "pClassDf.head()"
   ]
  },
  {
   "cell_type": "code",
   "execution_count": 55,
   "id": "0d28f4f4",
   "metadata": {},
   "outputs": [
    {
     "data": {
      "text/html": [
       "<div>\n",
       "<style scoped>\n",
       "    .dataframe tbody tr th:only-of-type {\n",
       "        vertical-align: middle;\n",
       "    }\n",
       "\n",
       "    .dataframe tbody tr th {\n",
       "        vertical-align: top;\n",
       "    }\n",
       "\n",
       "    .dataframe thead th {\n",
       "        text-align: right;\n",
       "    }\n",
       "</style>\n",
       "<table border=\"1\" class=\"dataframe\">\n",
       "  <thead>\n",
       "    <tr style=\"text-align: right;\">\n",
       "      <th></th>\n",
       "      <th>Survived</th>\n",
       "      <th>Sex</th>\n",
       "      <th>Age</th>\n",
       "      <th>SibSp</th>\n",
       "      <th>Parch</th>\n",
       "      <th>Fare</th>\n",
       "      <th>Embarked</th>\n",
       "      <th>Pclass_1</th>\n",
       "      <th>Pclass_2</th>\n",
       "      <th>Pclass_3</th>\n",
       "    </tr>\n",
       "  </thead>\n",
       "  <tbody>\n",
       "    <tr>\n",
       "      <th>0</th>\n",
       "      <td>0.0</td>\n",
       "      <td>0</td>\n",
       "      <td>22.0</td>\n",
       "      <td>1</td>\n",
       "      <td>0</td>\n",
       "      <td>7.2500</td>\n",
       "      <td>S</td>\n",
       "      <td>0</td>\n",
       "      <td>0</td>\n",
       "      <td>1</td>\n",
       "    </tr>\n",
       "    <tr>\n",
       "      <th>1</th>\n",
       "      <td>1.0</td>\n",
       "      <td>1</td>\n",
       "      <td>38.0</td>\n",
       "      <td>1</td>\n",
       "      <td>0</td>\n",
       "      <td>71.2833</td>\n",
       "      <td>C</td>\n",
       "      <td>1</td>\n",
       "      <td>0</td>\n",
       "      <td>0</td>\n",
       "    </tr>\n",
       "    <tr>\n",
       "      <th>2</th>\n",
       "      <td>1.0</td>\n",
       "      <td>1</td>\n",
       "      <td>26.0</td>\n",
       "      <td>0</td>\n",
       "      <td>0</td>\n",
       "      <td>7.9250</td>\n",
       "      <td>S</td>\n",
       "      <td>0</td>\n",
       "      <td>0</td>\n",
       "      <td>1</td>\n",
       "    </tr>\n",
       "    <tr>\n",
       "      <th>3</th>\n",
       "      <td>1.0</td>\n",
       "      <td>1</td>\n",
       "      <td>35.0</td>\n",
       "      <td>1</td>\n",
       "      <td>0</td>\n",
       "      <td>53.1000</td>\n",
       "      <td>S</td>\n",
       "      <td>1</td>\n",
       "      <td>0</td>\n",
       "      <td>0</td>\n",
       "    </tr>\n",
       "    <tr>\n",
       "      <th>4</th>\n",
       "      <td>0.0</td>\n",
       "      <td>0</td>\n",
       "      <td>35.0</td>\n",
       "      <td>0</td>\n",
       "      <td>0</td>\n",
       "      <td>8.0500</td>\n",
       "      <td>S</td>\n",
       "      <td>0</td>\n",
       "      <td>0</td>\n",
       "      <td>1</td>\n",
       "    </tr>\n",
       "  </tbody>\n",
       "</table>\n",
       "</div>"
      ],
      "text/plain": [
       "   Survived  Sex   Age  SibSp  Parch     Fare Embarked  Pclass_1  Pclass_2  \\\n",
       "0       0.0    0  22.0      1      0   7.2500        S         0         0   \n",
       "1       1.0    1  38.0      1      0  71.2833        C         1         0   \n",
       "2       1.0    1  26.0      0      0   7.9250        S         0         0   \n",
       "3       1.0    1  35.0      1      0  53.1000        S         1         0   \n",
       "4       0.0    0  35.0      0      0   8.0500        S         0         0   \n",
       "\n",
       "   Pclass_3  \n",
       "0         1  \n",
       "1         0  \n",
       "2         1  \n",
       "3         0  \n",
       "4         1  "
      ]
     },
     "execution_count": 55,
     "metadata": {},
     "output_type": "execute_result"
    }
   ],
   "source": [
    "# 将one-hot编码产生的虚拟变量添加到泰坦尼克号数据集full中\n",
    "full = pd.concat([full, pClassDf], axis=1)\n",
    "# 因为已经将类别转换为one-hot编码形式，并且添加到了full数据集中，所以删除原有的Pclass列\n",
    "full = full.drop('Pclass', axis=1)\n",
    "full.head()"
   ]
  },
  {
   "cell_type": "code",
   "execution_count": 56,
   "id": "e208c5ea",
   "metadata": {},
   "outputs": [
    {
     "data": {
      "text/plain": [
       "0    S\n",
       "1    C\n",
       "2    S\n",
       "3    S\n",
       "4    S\n",
       "Name: Embarked, dtype: object"
      ]
     },
     "execution_count": 56,
     "metadata": {},
     "output_type": "execute_result"
    }
   ],
   "source": [
    "# 2.3 处理港口类别\n",
    "full['Embarked'].head()"
   ]
  },
  {
   "cell_type": "code",
   "execution_count": 57,
   "id": "a1dc346c",
   "metadata": {},
   "outputs": [
    {
     "data": {
      "text/html": [
       "<div>\n",
       "<style scoped>\n",
       "    .dataframe tbody tr th:only-of-type {\n",
       "        vertical-align: middle;\n",
       "    }\n",
       "\n",
       "    .dataframe tbody tr th {\n",
       "        vertical-align: top;\n",
       "    }\n",
       "\n",
       "    .dataframe thead th {\n",
       "        text-align: right;\n",
       "    }\n",
       "</style>\n",
       "<table border=\"1\" class=\"dataframe\">\n",
       "  <thead>\n",
       "    <tr style=\"text-align: right;\">\n",
       "      <th></th>\n",
       "      <th>Embarked_C</th>\n",
       "      <th>Embarked_Q</th>\n",
       "      <th>Embarked_S</th>\n",
       "    </tr>\n",
       "  </thead>\n",
       "  <tbody>\n",
       "    <tr>\n",
       "      <th>0</th>\n",
       "      <td>0</td>\n",
       "      <td>0</td>\n",
       "      <td>1</td>\n",
       "    </tr>\n",
       "    <tr>\n",
       "      <th>1</th>\n",
       "      <td>1</td>\n",
       "      <td>0</td>\n",
       "      <td>0</td>\n",
       "    </tr>\n",
       "    <tr>\n",
       "      <th>2</th>\n",
       "      <td>0</td>\n",
       "      <td>0</td>\n",
       "      <td>1</td>\n",
       "    </tr>\n",
       "    <tr>\n",
       "      <th>3</th>\n",
       "      <td>0</td>\n",
       "      <td>0</td>\n",
       "      <td>1</td>\n",
       "    </tr>\n",
       "    <tr>\n",
       "      <th>4</th>\n",
       "      <td>0</td>\n",
       "      <td>0</td>\n",
       "      <td>1</td>\n",
       "    </tr>\n",
       "  </tbody>\n",
       "</table>\n",
       "</div>"
      ],
      "text/plain": [
       "   Embarked_C  Embarked_Q  Embarked_S\n",
       "0           0           0           1\n",
       "1           1           0           0\n",
       "2           0           0           1\n",
       "3           0           0           1\n",
       "4           0           0           1"
      ]
     },
     "execution_count": 57,
     "metadata": {},
     "output_type": "execute_result"
    }
   ],
   "source": [
    "# 存放提取后的特征\n",
    "embarkedDf = pd.DataFrame()\n",
    "# 将港口类别转换为one-hot编码格式\n",
    "embarkedDf = pd.get_dummies(full['Embarked'], prefix='Embarked')\n",
    "embarkedDf.head()"
   ]
  },
  {
   "cell_type": "code",
   "execution_count": 58,
   "id": "8b7dd3f1",
   "metadata": {},
   "outputs": [
    {
     "data": {
      "text/html": [
       "<div>\n",
       "<style scoped>\n",
       "    .dataframe tbody tr th:only-of-type {\n",
       "        vertical-align: middle;\n",
       "    }\n",
       "\n",
       "    .dataframe tbody tr th {\n",
       "        vertical-align: top;\n",
       "    }\n",
       "\n",
       "    .dataframe thead th {\n",
       "        text-align: right;\n",
       "    }\n",
       "</style>\n",
       "<table border=\"1\" class=\"dataframe\">\n",
       "  <thead>\n",
       "    <tr style=\"text-align: right;\">\n",
       "      <th></th>\n",
       "      <th>Survived</th>\n",
       "      <th>Sex</th>\n",
       "      <th>Age</th>\n",
       "      <th>SibSp</th>\n",
       "      <th>Parch</th>\n",
       "      <th>Fare</th>\n",
       "      <th>Pclass_1</th>\n",
       "      <th>Pclass_2</th>\n",
       "      <th>Pclass_3</th>\n",
       "      <th>Embarked_C</th>\n",
       "      <th>Embarked_Q</th>\n",
       "      <th>Embarked_S</th>\n",
       "    </tr>\n",
       "  </thead>\n",
       "  <tbody>\n",
       "    <tr>\n",
       "      <th>0</th>\n",
       "      <td>0.0</td>\n",
       "      <td>0</td>\n",
       "      <td>22.0</td>\n",
       "      <td>1</td>\n",
       "      <td>0</td>\n",
       "      <td>7.2500</td>\n",
       "      <td>0</td>\n",
       "      <td>0</td>\n",
       "      <td>1</td>\n",
       "      <td>0</td>\n",
       "      <td>0</td>\n",
       "      <td>1</td>\n",
       "    </tr>\n",
       "    <tr>\n",
       "      <th>1</th>\n",
       "      <td>1.0</td>\n",
       "      <td>1</td>\n",
       "      <td>38.0</td>\n",
       "      <td>1</td>\n",
       "      <td>0</td>\n",
       "      <td>71.2833</td>\n",
       "      <td>1</td>\n",
       "      <td>0</td>\n",
       "      <td>0</td>\n",
       "      <td>1</td>\n",
       "      <td>0</td>\n",
       "      <td>0</td>\n",
       "    </tr>\n",
       "    <tr>\n",
       "      <th>2</th>\n",
       "      <td>1.0</td>\n",
       "      <td>1</td>\n",
       "      <td>26.0</td>\n",
       "      <td>0</td>\n",
       "      <td>0</td>\n",
       "      <td>7.9250</td>\n",
       "      <td>0</td>\n",
       "      <td>0</td>\n",
       "      <td>1</td>\n",
       "      <td>0</td>\n",
       "      <td>0</td>\n",
       "      <td>1</td>\n",
       "    </tr>\n",
       "    <tr>\n",
       "      <th>3</th>\n",
       "      <td>1.0</td>\n",
       "      <td>1</td>\n",
       "      <td>35.0</td>\n",
       "      <td>1</td>\n",
       "      <td>0</td>\n",
       "      <td>53.1000</td>\n",
       "      <td>1</td>\n",
       "      <td>0</td>\n",
       "      <td>0</td>\n",
       "      <td>0</td>\n",
       "      <td>0</td>\n",
       "      <td>1</td>\n",
       "    </tr>\n",
       "    <tr>\n",
       "      <th>4</th>\n",
       "      <td>0.0</td>\n",
       "      <td>0</td>\n",
       "      <td>35.0</td>\n",
       "      <td>0</td>\n",
       "      <td>0</td>\n",
       "      <td>8.0500</td>\n",
       "      <td>0</td>\n",
       "      <td>0</td>\n",
       "      <td>1</td>\n",
       "      <td>0</td>\n",
       "      <td>0</td>\n",
       "      <td>1</td>\n",
       "    </tr>\n",
       "  </tbody>\n",
       "</table>\n",
       "</div>"
      ],
      "text/plain": [
       "   Survived  Sex   Age  SibSp  Parch     Fare  Pclass_1  Pclass_2  Pclass_3  \\\n",
       "0       0.0    0  22.0      1      0   7.2500         0         0         1   \n",
       "1       1.0    1  38.0      1      0  71.2833         1         0         0   \n",
       "2       1.0    1  26.0      0      0   7.9250         0         0         1   \n",
       "3       1.0    1  35.0      1      0  53.1000         1         0         0   \n",
       "4       0.0    0  35.0      0      0   8.0500         0         0         1   \n",
       "\n",
       "   Embarked_C  Embarked_Q  Embarked_S  \n",
       "0           0           0           1  \n",
       "1           1           0           0  \n",
       "2           0           0           1  \n",
       "3           0           0           1  \n",
       "4           0           0           1  "
      ]
     },
     "execution_count": 58,
     "metadata": {},
     "output_type": "execute_result"
    }
   ],
   "source": [
    "# 将one-hot编码产生的虚拟变量添加到泰坦尼克号数据集full中\n",
    "full = pd.concat([full, embarkedDf], axis=1)\n",
    "full.head()\n",
    "# 因为已经将类别转换为one-hot编码形式，并且添加到了full数据集中，所以删除原有的Embarked列\n",
    "full = full.drop('Embarked', axis=1)\n",
    "full.head()"
   ]
  },
  {
   "cell_type": "code",
   "execution_count": 59,
   "id": "af3388ad",
   "metadata": {},
   "outputs": [
    {
     "name": "stdout",
     "output_type": "stream",
     "text": [
      "<class 'pandas.core.frame.DataFrame'>\n",
      "RangeIndex: 1309 entries, 0 to 1308\n",
      "Data columns (total 12 columns):\n",
      " #   Column      Non-Null Count  Dtype  \n",
      "---  ------      --------------  -----  \n",
      " 0   Survived    891 non-null    float64\n",
      " 1   Sex         1309 non-null   int64  \n",
      " 2   Age         1309 non-null   float64\n",
      " 3   SibSp       1309 non-null   int64  \n",
      " 4   Parch       1309 non-null   int64  \n",
      " 5   Fare        1309 non-null   float64\n",
      " 6   Pclass_1    1309 non-null   uint8  \n",
      " 7   Pclass_2    1309 non-null   uint8  \n",
      " 8   Pclass_3    1309 non-null   uint8  \n",
      " 9   Embarked_C  1309 non-null   uint8  \n",
      " 10  Embarked_Q  1309 non-null   uint8  \n",
      " 11  Embarked_S  1309 non-null   uint8  \n",
      "dtypes: float64(3), int64(3), uint8(6)\n",
      "memory usage: 69.2 KB\n"
     ]
    }
   ],
   "source": [
    "full.info()"
   ]
  },
  {
   "cell_type": "code",
   "execution_count": 60,
   "id": "2007f053",
   "metadata": {},
   "outputs": [
    {
     "name": "stdout",
     "output_type": "stream",
     "text": [
      "训练集标签：\n",
      "(891,), 类型：<class 'numpy.ndarray'>\n",
      "训练集样本：\n",
      "(891, 11), 类型：<class 'numpy.ndarray'>\n",
      "测试集样本：\n",
      "(418, 11), 类型：<class 'numpy.ndarray'>\n"
     ]
    }
   ],
   "source": [
    "# 3.构建数据集\n",
    "# 取出训练集样本和标签，测试集样本，并转换为numpy类型\n",
    "train_labels = full.iloc[:891, 0].to_numpy()\n",
    "print(f\"训练集标签：\\n{train_labels.shape}, 类型：{type(train_labels)}\")\n",
    "\n",
    "train_inputs = full.iloc[:891, 1:].to_numpy()\n",
    "print(f\"训练集样本：\\n{train_inputs.shape}, 类型：{type(train_inputs)}\")\n",
    "\n",
    "test_inputs = full.iloc[891:, 1:].to_numpy()\n",
    "print(f\"测试集样本：\\n{test_inputs.shape}, 类型：{type(test_inputs)}\")"
   ]
  },
  {
   "cell_type": "code",
   "execution_count": 61,
   "id": "5adadfb8",
   "metadata": {},
   "outputs": [],
   "source": [
    "import torch\n",
    "from torch.utils.data import DataLoader, TensorDataset, random_split\n",
    "import copy"
   ]
  },
  {
   "cell_type": "code",
   "execution_count": 62,
   "id": "e9c73c5c",
   "metadata": {},
   "outputs": [
    {
     "name": "stdout",
     "output_type": "stream",
     "text": [
      "训练集标签：\n",
      "torch.Size([891]), 类型：<class 'torch.Tensor'>\n",
      "训练集样本：\n",
      "torch.Size([891, 11]), 类型：<class 'torch.Tensor'>\n",
      "测试集样本：\n",
      "torch.Size([418, 11]), 类型：<class 'torch.Tensor'>\n"
     ]
    }
   ],
   "source": [
    "# 将数据转换为tensor类型\n",
    "# torch.from_numpy()方法把数组转换成张量,且二者共享内存，对张量进行修改比如重新赋值，那么原始数组也会相应发生改变。\n",
    "# 默认格式是 torch.float64, torch.long() 将tensor投射为long类型\n",
    "train_labels = torch.from_numpy(train_labels).to(torch.long)\n",
    "print(f\"训练集标签：\\n{train_labels.size()}, 类型：{type(train_labels)}\")\n",
    "\n",
    "train_inputs = torch.from_numpy(train_inputs).to(torch.float32)\n",
    "print(f\"训练集样本：\\n{train_inputs.size()}, 类型：{type(train_inputs)}\")\n",
    "\n",
    "test_inputs = torch.from_numpy(test_inputs).to(torch.float32)\n",
    "print(f\"测试集样本：\\n{test_inputs.size()}, 类型：{type(test_inputs)}\")"
   ]
  },
  {
   "cell_type": "code",
   "execution_count": 63,
   "id": "6b7676f0",
   "metadata": {},
   "outputs": [
    {
     "name": "stdout",
     "output_type": "stream",
     "text": [
      "数据集大小：891\n",
      "数据集样本大小：624, 验证集样本大小：267\n"
     ]
    }
   ],
   "source": [
    "# 将样本和标签构建成数据集，以便使用DataLoader来自动生成batch训练\n",
    "dataset = TensorDataset(train_inputs, train_labels)\n",
    "dataset_len = len(dataset)\n",
    "print(f\"数据集大小：{dataset_len}\")\n",
    "\n",
    "# 将数据集进一步划分为训练集和验证集(7:3，大概训练集624个，验证集267个)\n",
    "# torch.manual_seed(1)是为了设置CPU的的随机数固定，使得紧跟着的rand（）函数生成的值是固定的随机！\n",
    "torch.manual_seed(1)\n",
    "train_dataset, valid_dataset = random_split(dataset, lengths=[624, 267])\n",
    "print(f\"数据集样本大小：{len(train_dataset)}, 验证集样本大小：{len(valid_dataset)}\")"
   ]
  },
  {
   "cell_type": "code",
   "execution_count": 64,
   "id": "2cbacfcd",
   "metadata": {},
   "outputs": [],
   "source": [
    "def dropout_layer(X, dropout):\n",
    "    assert 0 <= dropout <= 1\n",
    "    # 在本情况中，所有元素都被丢弃\n",
    "    if dropout == 1:\n",
    "        return torch.zeros_like(X)\n",
    "    # 在本情况中，所有元素都被保留\n",
    "    if dropout == 0:\n",
    "        return X\n",
    "    mask = (torch.rand(X.shape) > dropout).float()\n",
    "    return mask * X / (1.0 - dropout)"
   ]
  },
  {
   "cell_type": "code",
   "execution_count": 124,
   "id": "d3c92fa6",
   "metadata": {},
   "outputs": [
    {
     "data": {
      "text/plain": [
       "Net(\n",
       "  (lin1): Linear(in_features=11, out_features=22, bias=True)\n",
       "  (lin2): Linear(in_features=22, out_features=11, bias=True)\n",
       "  (lin3): Linear(in_features=11, out_features=2, bias=True)\n",
       "  (relu): ReLU()\n",
       "  (sigmoid): Sigmoid()\n",
       ")"
      ]
     },
     "execution_count": 124,
     "metadata": {},
     "output_type": "execute_result"
    }
   ],
   "source": [
    "# 4.构建模型\n",
    "class Net(torch.nn.Module):\n",
    "    def __init__(self, input_size, output_size):\n",
    "        super().__init__()\n",
    "        self.input_size = input_size\n",
    "        self.output_size = output_size\n",
    "        self.lin1 = torch.nn.Linear(input_size, 22)\n",
    "        self.lin2 = torch.nn.Linear(22, 11)\n",
    "        self.lin3 = torch.nn.Linear(11, output_size)\n",
    "        self.relu = torch.nn.ReLU()\n",
    "        self.sigmoid = torch.nn.Sigmoid()\n",
    "        \n",
    "    def forward(self, x):\n",
    "        x = self.relu(self.lin1(x))\n",
    "        x = self.relu(self.lin2(x))\n",
    "        x = self.sigmoid(self.lin3(x))\n",
    "        return x\n",
    "\n",
    "# 定义模型\n",
    "net = Net(11, 2)\n",
    "def init_normal(m):\n",
    "    if type(m) == nn.Linear:\n",
    "        nn.init.normal_(m.weight, mean=0, std=0.01)\n",
    "net.apply(init_normal)"
   ]
  },
  {
   "cell_type": "code",
   "execution_count": 125,
   "id": "aeca42b4",
   "metadata": {},
   "outputs": [],
   "source": [
    "# 5.模型训练\n",
    "from torch.utils.tensorboard import SummaryWriter\n",
    "writer = SummaryWriter('logs')"
   ]
  },
  {
   "cell_type": "code",
   "execution_count": 126,
   "id": "506d64b8",
   "metadata": {},
   "outputs": [
    {
     "name": "stdout",
     "output_type": "stream",
     "text": [
      "开始训练：\n",
      "\n",
      "Epoch [1/100] Loss=0.6916, 训练集准确率：40.2244%， 验证集准确率：68.5393%\n",
      "Epoch [2/100] Loss=0.6414, 训练集准确率：69.3910%， 验证集准确率：67.0412%\n",
      "Epoch [3/100] Loss=0.5520, 训练集准确率：69.5513%， 验证集准确率：67.0412%\n",
      "Epoch [4/100] Loss=0.5377, 训练集准确率：68.5897%， 验证集准确率：67.7903%\n",
      "Epoch [5/100] Loss=0.6105, 训练集准确率：70.1923%， 验证集准确率：70.0375%\n",
      "Epoch [6/100] Loss=0.5176, 训练集准确率：72.2756%， 验证集准确率：71.1610%\n",
      "Epoch [7/100] Loss=0.4920, 训练集准确率：73.7179%， 验证集准确率：71.5356%\n",
      "Epoch [8/100] Loss=0.5150, 训练集准确率：76.1218%， 验证集准确率：72.2846%\n",
      "Epoch [9/100] Loss=0.5629, 训练集准确率：74.8397%， 验证集准确率：74.1573%\n",
      "Epoch [10/100] Loss=0.4898, 训练集准确率：77.8846%， 验证集准确率：71.9101%\n",
      "Epoch [11/100] Loss=0.4450, 训练集准确率：78.0449%， 验证集准确率：74.5318%\n",
      "Epoch [12/100] Loss=0.5655, 训练集准确率：79.6474%， 验证集准确率：77.1536%\n",
      "Epoch [13/100] Loss=0.4384, 训练集准确率：80.4487%， 验证集准确率：76.0300%\n",
      "Epoch [14/100] Loss=0.5198, 训练集准确率：80.4487%， 验证集准确率：78.2772%\n",
      "Epoch [15/100] Loss=0.4791, 训练集准确率：80.4487%， 验证集准确率：78.2772%\n",
      "Epoch [16/100] Loss=0.5444, 训练集准确率：79.9679%， 验证集准确率：77.9026%\n",
      "Epoch [17/100] Loss=0.4305, 训练集准确率：81.4103%， 验证集准确率：73.7828%\n",
      "Epoch [18/100] Loss=0.5956, 训练集准确率：80.2885%， 验证集准确率：78.2772%\n",
      "Epoch [19/100] Loss=0.4894, 训练集准确率：81.2500%， 验证集准确率：76.0300%\n",
      "Epoch [20/100] Loss=0.4564, 训练集准确率：81.7308%， 验证集准确率：76.7790%\n",
      "Epoch [21/100] Loss=0.4623, 训练集准确率：81.8910%， 验证集准确率：79.7753%\n",
      "Epoch [22/100] Loss=0.5109, 训练集准确率：81.0897%， 验证集准确率：79.4007%\n",
      "Epoch [23/100] Loss=0.4757, 训练集准确率：81.8910%， 验证集准确率：79.7753%\n",
      "Epoch [24/100] Loss=0.4311, 训练集准确率：79.9679%， 验证集准确率：80.5243%\n",
      "Epoch [25/100] Loss=0.5302, 训练集准确率：81.2500%， 验证集准确率：79.4007%\n",
      "Epoch [26/100] Loss=0.5281, 训练集准确率：81.8910%， 验证集准确率：75.2809%\n",
      "Epoch [27/100] Loss=0.4855, 训练集准确率：80.7692%， 验证集准确率：78.6517%\n",
      "Epoch [28/100] Loss=0.5338, 训练集准确率：82.2115%， 验证集准确率：79.0262%\n",
      "Epoch [29/100] Loss=0.5314, 训练集准确率：79.6474%， 验证集准确率：70.0375%\n",
      "Epoch [30/100] Loss=0.4829, 训练集准确率：80.4487%， 验证集准确率：74.9064%\n",
      "Epoch [31/100] Loss=0.4931, 训练集准确率：79.9679%， 验证集准确率：77.5281%\n",
      "Epoch [32/100] Loss=0.5728, 训练集准确率：80.1282%， 验证集准确率：75.2809%\n",
      "Epoch [33/100] Loss=0.4730, 训练集准确率：82.2115%， 验证集准确率：79.7753%\n",
      "Epoch [34/100] Loss=0.5583, 训练集准确率：80.7692%， 验证集准确率：79.4007%\n",
      "Epoch [35/100] Loss=0.5516, 训练集准确率：81.8910%， 验证集准确率：79.0262%\n",
      "Epoch [36/100] Loss=0.4754, 训练集准确率：82.0513%， 验证集准确率：79.0262%\n",
      "Epoch [37/100] Loss=0.4728, 训练集准确率：82.3718%， 验证集准确率：79.0262%\n",
      "Epoch [38/100] Loss=0.4554, 训练集准确率：82.8526%， 验证集准确率：78.6517%\n",
      "Epoch [39/100] Loss=0.4148, 训练集准确率：81.2500%， 验证集准确率：79.0262%\n",
      "Epoch [40/100] Loss=0.5806, 训练集准确率：81.2500%， 验证集准确率：77.1536%\n",
      "Epoch [41/100] Loss=0.4141, 训练集准确率：81.8910%， 验证集准确率：79.7753%\n",
      "Epoch [42/100] Loss=0.5579, 训练集准确率：82.5321%， 验证集准确率：78.6517%\n",
      "Epoch [43/100] Loss=0.5168, 训练集准确率：82.5321%， 验证集准确率：80.1498%\n",
      "Epoch [44/100] Loss=0.4788, 训练集准确率：81.7308%， 验证集准确率：79.4007%\n",
      "Epoch [45/100] Loss=0.4630, 训练集准确率：82.3718%， 验证集准确率：79.7753%\n",
      "Epoch [46/100] Loss=0.4493, 训练集准确率：81.7308%， 验证集准确率：79.0262%\n",
      "Epoch [47/100] Loss=0.4851, 训练集准确率：81.5705%， 验证集准确率：69.6629%\n",
      "Epoch [48/100] Loss=0.5024, 训练集准确率：78.2051%， 验证集准确率：75.6554%\n",
      "Epoch [49/100] Loss=0.4538, 训练集准确率：79.0064%， 验证集准确率：75.2809%\n",
      "Epoch [50/100] Loss=0.4687, 训练集准确率：78.8462%， 验证集准确率：78.2772%\n",
      "Epoch [51/100] Loss=0.5891, 训练集准确率：81.0897%， 验证集准确率：77.1536%\n",
      "Epoch [52/100] Loss=0.4663, 训练集准确率：81.8910%， 验证集准确率：79.0262%\n",
      "Epoch [53/100] Loss=0.5461, 训练集准确率：81.5705%， 验证集准确率：79.7753%\n",
      "Epoch [54/100] Loss=0.5310, 训练集准确率：81.8910%， 验证集准确率：80.1498%\n",
      "Epoch [55/100] Loss=0.5346, 训练集准确率：82.8526%， 验证集准确率：79.7753%\n",
      "Epoch [56/100] Loss=0.4434, 训练集准确率：82.8526%， 验证集准确率：79.7753%\n",
      "Epoch [57/100] Loss=0.4958, 训练集准确率：82.3718%， 验证集准确率：79.7753%\n",
      "Epoch [58/100] Loss=0.4819, 训练集准确率：82.2115%， 验证集准确率：78.6517%\n",
      "Epoch [59/100] Loss=0.5447, 训练集准确率：82.5321%， 验证集准确率：80.5243%\n",
      "Epoch [60/100] Loss=0.5490, 训练集准确率：81.5705%， 验证集准确率：80.1498%\n",
      "Epoch [61/100] Loss=0.6072, 训练集准确率：80.7692%， 验证集准确率：79.7753%\n",
      "Epoch [62/100] Loss=0.4559, 训练集准确率：81.4103%， 验证集准确率：79.4007%\n",
      "Epoch [63/100] Loss=0.4524, 训练集准确率：82.0513%， 验证集准确率：80.1498%\n",
      "Epoch [64/100] Loss=0.4881, 训练集准确率：80.7692%， 验证集准确率：80.1498%\n",
      "Epoch [65/100] Loss=0.4680, 训练集准确率：82.5321%， 验证集准确率：79.0262%\n",
      "Epoch [66/100] Loss=0.4659, 训练集准确率：81.4103%， 验证集准确率：80.5243%\n",
      "Epoch [67/100] Loss=0.5260, 训练集准确率：81.7308%， 验证集准确率：80.5243%\n",
      "Epoch [68/100] Loss=0.4988, 训练集准确率：82.2115%， 验证集准确率：80.1498%\n",
      "Epoch [69/100] Loss=0.4726, 训练集准确率：82.0513%， 验证集准确率：79.4007%\n",
      "Epoch [70/100] Loss=0.4704, 训练集准确率：82.0513%， 验证集准确率：80.5243%\n",
      "Epoch [71/100] Loss=0.5262, 训练集准确率：81.4103%， 验证集准确率：79.0262%\n",
      "Epoch [72/100] Loss=0.5474, 训练集准确率：81.8910%， 验证集准确率：81.2734%\n",
      "Epoch [73/100] Loss=0.3540, 训练集准确率：83.3333%， 验证集准确率：79.4007%\n",
      "Epoch [74/100] Loss=0.4644, 训练集准确率：82.2115%， 验证集准确率：79.0262%\n",
      "Epoch [75/100] Loss=0.4894, 训练集准确率：82.2115%， 验证集准确率：74.9064%\n",
      "Epoch [76/100] Loss=0.4253, 训练集准确率：81.2500%， 验证集准确率：79.7753%\n",
      "Epoch [77/100] Loss=0.5162, 训练集准确率：82.3718%， 验证集准确率：79.7753%\n",
      "Epoch [78/100] Loss=0.5035, 训练集准确率：83.0128%， 验证集准确率：80.1498%\n",
      "Epoch [79/100] Loss=0.4105, 训练集准确率：82.0513%， 验证集准确率：80.1498%\n",
      "Epoch [80/100] Loss=0.5053, 训练集准确率：82.5321%， 验证集准确率：79.7753%\n",
      "Epoch [81/100] Loss=0.5191, 训练集准确率：82.2115%， 验证集准确率：81.2734%\n",
      "Epoch [82/100] Loss=0.4105, 训练集准确率：82.8526%， 验证集准确率：80.1498%\n",
      "Epoch [83/100] Loss=0.4791, 训练集准确率：81.8910%， 验证集准确率：81.2734%\n",
      "Epoch [84/100] Loss=0.5183, 训练集准确率：82.8526%， 验证集准确率：77.9026%\n",
      "Epoch [85/100] Loss=0.5378, 训练集准确率：81.0897%， 验证集准确率：78.6517%\n",
      "Epoch [86/100] Loss=0.4415, 训练集准确率：81.5705%， 验证集准确率：79.4007%\n",
      "Epoch [87/100] Loss=0.4562, 训练集准确率：82.8526%， 验证集准确率：81.2734%\n",
      "Epoch [88/100] Loss=0.4979, 训练集准确率：82.0513%， 验证集准确率：81.6479%\n",
      "Epoch [89/100] Loss=0.5527, 训练集准确率：83.1731%， 验证集准确率：80.8989%\n",
      "Epoch [90/100] Loss=0.4545, 训练集准确率：83.0128%， 验证集准确率：81.2734%\n",
      "Epoch [91/100] Loss=0.5732, 训练集准确率：83.0128%， 验证集准确率：79.7753%\n",
      "Epoch [92/100] Loss=0.4780, 训练集准确率：82.2115%， 验证集准确率：81.6479%\n",
      "Epoch [93/100] Loss=0.4701, 训练集准确率：83.3333%， 验证集准确率：81.2734%\n",
      "Epoch [94/100] Loss=0.5262, 训练集准确率：83.1731%， 验证集准确率：81.2734%\n",
      "Epoch [95/100] Loss=0.4508, 训练集准确率：82.5321%， 验证集准确率：82.7715%\n",
      "Epoch [96/100] Loss=0.5191, 训练集准确率：82.6923%， 验证集准确率：77.5281%\n",
      "Epoch [97/100] Loss=0.5092, 训练集准确率：81.5705%， 验证集准确率：80.1498%\n",
      "Epoch [98/100] Loss=0.4913, 训练集准确率：81.8910%， 验证集准确率：79.7753%\n",
      "Epoch [99/100] Loss=0.4359, 训练集准确率：81.2500%， 验证集准确率：81.2734%\n",
      "Epoch [100/100] Loss=0.4979, 训练集准确率：80.6090%， 验证集准确率：80.8989%\n"
     ]
    }
   ],
   "source": [
    "# 定义batch大小\n",
    "batch_size = 64\n",
    "train_dataset_loader = DataLoader(train_dataset, batch_size=batch_size, shuffle=True)\n",
    "valid_dataset_loader = DataLoader(valid_dataset, batch_size=batch_size*2)\n",
    "\n",
    "\n",
    "# 定义优化器\n",
    "optimizer = torch.optim.Adam(net.parameters(), lr=0.006)\n",
    "# 定义损失函数，分类问题使用交叉熵损失函数\n",
    "loss_fn = torch.nn.CrossEntropyLoss()\n",
    "\n",
    "# 定义迭代次数\n",
    "epochs = 100\n",
    "\n",
    "print(\"开始训练：\\n\")\n",
    "for i in range(epochs):\n",
    "    loss = 0\n",
    "    train_correct = 0\n",
    "    # 在训练集上训练，并计算准确率\n",
    "    for inputs, labels in train_dataset_loader:\n",
    "        optimizer.zero_grad()\n",
    "        # 前向传播计算输出\n",
    "        outputs = net(inputs)\n",
    "        # 找出输出中最大值的索引下标\n",
    "        _, idx = outputs.max(dim=1)\n",
    "#         print('idx.shape:', idx.shape) # idx.shape: torch.Size([64])\n",
    "        train_correct += (idx == labels).sum()\n",
    "        # 计算损失\n",
    "        loss = loss_fn(outputs, labels)\n",
    "        # 反向传播计算梯度\n",
    "        loss.backward()\n",
    "        # 优化参数\n",
    "        optimizer.step()\n",
    "        \n",
    "    # 寻找出训练集准确率不低的模型\n",
    "    train_accuracy = train_correct / len(train_dataset)\n",
    "    if train_accuracy > 0.8:\n",
    "        state = {\n",
    "            'accuracy': train_accuracy * 100,\n",
    "            'state_dict': net.state_dict(),\n",
    "            'optimizer': optimizer.state_dict()}\n",
    "        torch.save(state, f\"model2-2_epoch{i+1}_{train_accuracy}.pth\")\n",
    "\n",
    "    writer.add_scalar(\"训练集准确率\", train_accuracy, i+1)\n",
    "    print(\"Epoch [%d/%d] Loss=%.4f\" %(i+1, epochs, loss.item()), end='')\n",
    "    print(\", 训练集准确率：%.4f%%\" %(train_accuracy * 100), end='')\n",
    "\n",
    "    # 在验证集上计算准确率\n",
    "    valid_correct = 0\n",
    "    for inputs, labels in valid_dataset_loader:\n",
    "        outputs = net(inputs)\n",
    "        _, idx = outputs.max(dim=1)\n",
    "        valid_correct += (idx == labels).sum()\n",
    "\n",
    "    valid_accuracy = valid_correct / len(valid_dataset)\n",
    "    writer.add_scalar(\"验证集准确率\", valid_accuracy, i+1)\n",
    "    print(\"， 验证集准确率：%.4f%%\" %(valid_accuracy*100))"
   ]
  },
  {
   "cell_type": "code",
   "execution_count": 89,
   "id": "43bdebf1",
   "metadata": {},
   "outputs": [
    {
     "name": "stdout",
     "output_type": "stream",
     "text": [
      "测试集大小：418, 测试集类型:<class 'torch.Tensor'>\n"
     ]
    }
   ],
   "source": [
    "# 6.预测数据\n",
    "print(f\"测试集大小：{len(test_inputs)}, 测试集类型:{type(test_inputs)}\")"
   ]
  },
  {
   "cell_type": "code",
   "execution_count": 127,
   "id": "79e31c4a",
   "metadata": {},
   "outputs": [
    {
     "name": "stdout",
     "output_type": "stream",
     "text": [
      "输出数据的大小：torch.Size([418, 2])\n"
     ]
    }
   ],
   "source": [
    "# 创建模型\n",
    "net = Net(11, 2)\n",
    "# 加载训练好的模型\n",
    "state = torch.load(\"model2-2_epoch95_0.8253205418586731.pth\")\n",
    "net.load_state_dict(state['state_dict'])\n",
    "# 前向计算输出\n",
    "outputs = net(test_inputs)\n",
    "print(f\"输出数据的大小：{outputs.size()}\")"
   ]
  },
  {
   "cell_type": "code",
   "execution_count": 128,
   "id": "c32cfcfb",
   "metadata": {},
   "outputs": [
    {
     "name": "stdout",
     "output_type": "stream",
     "text": [
      "预测结果的大小：(418,), 预测数据：\n",
      "[0 0 0 0 0 0 1 0 1 0 0 0 1 0 1 1 0 0 0 0 0 0 1 1 1 0 1 0 0 0 0 0 0 0 0 0 0\n",
      " 1 0 0 0 0 0 1 1 0 0 0 1 0 0 0 1 1 0 0 0 0 0 1 0 0 0 1 1 1 1 0 0 0 1 0 0 0\n",
      " 1 0 0 1 0 1 0 0 0 0 1 0 1 1 1 1 0 0 1 0 1 0 0 0 1 0 1 0 0 0 1 0 0 0 0 0 0\n",
      " 1 1 1 0 0 0 1 0 1 1 0 1 0 0 1 0 1 0 0 0 0 0 0 0 0 0 0 1 0 0 1 0 0 0 0 0 0\n",
      " 0 0 1 0 0 0 0 0 1 1 0 0 1 0 1 0 0 0 0 0 1 1 0 0 0 0 0 1 1 0 1 1 0 0 1 0 1\n",
      " 0 1 0 0 0 0 0 0 0 1 0 1 1 0 0 1 0 0 1 0 0 1 0 1 0 0 0 0 1 0 0 1 0 1 0 1 0\n",
      " 1 0 1 1 0 1 0 0 0 1 0 0 0 0 0 0 1 1 1 1 0 0 0 0 1 0 1 1 1 0 0 0 0 0 0 0 1\n",
      " 0 0 0 1 1 0 0 0 0 0 0 0 0 1 1 0 1 0 0 0 0 1 0 1 1 1 0 0 0 0 0 0 1 0 0 0 0\n",
      " 1 0 0 0 0 0 0 0 1 1 0 0 0 0 0 0 0 1 1 1 0 0 0 0 0 0 0 0 1 0 1 0 0 0 1 0 0\n",
      " 1 0 0 0 0 0 0 0 0 0 1 0 1 0 1 0 1 1 0 0 0 1 0 1 0 0 0 0 1 1 0 1 0 0 0 1 0\n",
      " 0 1 0 0 1 1 0 0 0 0 0 0 0 0 0 1 0 0 0 0 0 1 0 0 0 1 0 1 0 0 1 0 1 0 0 1 0\n",
      " 0 1 1 1 1 0 0 1 0 0 0]\n"
     ]
    }
   ],
   "source": [
    "# 从输出数据中，找出每一行的最大值索引，即对应的预测数据，Survived是否生还\n",
    "_, predict = outputs.max(dim=1)\n",
    "# 转换为numpy数据类型\n",
    "predict = predict.numpy()\n",
    "print(f\"预测结果的大小：{predict.shape}, 预测数据：\\n{predict}\")"
   ]
  },
  {
   "cell_type": "code",
   "execution_count": 129,
   "id": "07918a55",
   "metadata": {},
   "outputs": [
    {
     "name": "stdout",
     "output_type": "stream",
     "text": [
      "<class 'pandas.core.frame.DataFrame'>\n",
      "RangeIndex: 418 entries, 0 to 417\n",
      "Data columns (total 11 columns):\n",
      " #   Column       Non-Null Count  Dtype  \n",
      "---  ------       --------------  -----  \n",
      " 0   PassengerId  418 non-null    int64  \n",
      " 1   Pclass       418 non-null    int64  \n",
      " 2   Name         418 non-null    object \n",
      " 3   Sex          418 non-null    object \n",
      " 4   Age          332 non-null    float64\n",
      " 5   SibSp        418 non-null    int64  \n",
      " 6   Parch        418 non-null    int64  \n",
      " 7   Ticket       418 non-null    object \n",
      " 8   Fare         417 non-null    float64\n",
      " 9   Cabin        91 non-null     object \n",
      " 10  Embarked     418 non-null    object \n",
      "dtypes: float64(2), int64(4), object(5)\n",
      "memory usage: 36.0+ KB\n",
      "读取的测试文件：\n",
      "None\n"
     ]
    }
   ],
   "source": [
    "# 查看读取的测试文件内容\n",
    "print(f\"读取的测试文件：\\n{test_data.info()}\")"
   ]
  },
  {
   "cell_type": "code",
   "execution_count": 130,
   "id": "16e11f8d",
   "metadata": {
    "scrolled": true
   },
   "outputs": [
    {
     "name": "stdout",
     "output_type": "stream",
     "text": [
      "id数据的大小：(418,), 数据:\n",
      "[ 892  893  894  895  896  897  898  899  900  901  902  903  904  905\n",
      "  906  907  908  909  910  911  912  913  914  915  916  917  918  919\n",
      "  920  921  922  923  924  925  926  927  928  929  930  931  932  933\n",
      "  934  935  936  937  938  939  940  941  942  943  944  945  946  947\n",
      "  948  949  950  951  952  953  954  955  956  957  958  959  960  961\n",
      "  962  963  964  965  966  967  968  969  970  971  972  973  974  975\n",
      "  976  977  978  979  980  981  982  983  984  985  986  987  988  989\n",
      "  990  991  992  993  994  995  996  997  998  999 1000 1001 1002 1003\n",
      " 1004 1005 1006 1007 1008 1009 1010 1011 1012 1013 1014 1015 1016 1017\n",
      " 1018 1019 1020 1021 1022 1023 1024 1025 1026 1027 1028 1029 1030 1031\n",
      " 1032 1033 1034 1035 1036 1037 1038 1039 1040 1041 1042 1043 1044 1045\n",
      " 1046 1047 1048 1049 1050 1051 1052 1053 1054 1055 1056 1057 1058 1059\n",
      " 1060 1061 1062 1063 1064 1065 1066 1067 1068 1069 1070 1071 1072 1073\n",
      " 1074 1075 1076 1077 1078 1079 1080 1081 1082 1083 1084 1085 1086 1087\n",
      " 1088 1089 1090 1091 1092 1093 1094 1095 1096 1097 1098 1099 1100 1101\n",
      " 1102 1103 1104 1105 1106 1107 1108 1109 1110 1111 1112 1113 1114 1115\n",
      " 1116 1117 1118 1119 1120 1121 1122 1123 1124 1125 1126 1127 1128 1129\n",
      " 1130 1131 1132 1133 1134 1135 1136 1137 1138 1139 1140 1141 1142 1143\n",
      " 1144 1145 1146 1147 1148 1149 1150 1151 1152 1153 1154 1155 1156 1157\n",
      " 1158 1159 1160 1161 1162 1163 1164 1165 1166 1167 1168 1169 1170 1171\n",
      " 1172 1173 1174 1175 1176 1177 1178 1179 1180 1181 1182 1183 1184 1185\n",
      " 1186 1187 1188 1189 1190 1191 1192 1193 1194 1195 1196 1197 1198 1199\n",
      " 1200 1201 1202 1203 1204 1205 1206 1207 1208 1209 1210 1211 1212 1213\n",
      " 1214 1215 1216 1217 1218 1219 1220 1221 1222 1223 1224 1225 1226 1227\n",
      " 1228 1229 1230 1231 1232 1233 1234 1235 1236 1237 1238 1239 1240 1241\n",
      " 1242 1243 1244 1245 1246 1247 1248 1249 1250 1251 1252 1253 1254 1255\n",
      " 1256 1257 1258 1259 1260 1261 1262 1263 1264 1265 1266 1267 1268 1269\n",
      " 1270 1271 1272 1273 1274 1275 1276 1277 1278 1279 1280 1281 1282 1283\n",
      " 1284 1285 1286 1287 1288 1289 1290 1291 1292 1293 1294 1295 1296 1297\n",
      " 1298 1299 1300 1301 1302 1303 1304 1305 1306 1307 1308 1309]\n"
     ]
    }
   ],
   "source": [
    "# 从测试csv文件中取出PassengerId，并转换为numpy数据类型\n",
    "passenger_id = test_data['PassengerId'].to_numpy()\n",
    "print(f\"id数据的大小：{passenger_id.shape}, 数据:\\n{passenger_id}\")"
   ]
  },
  {
   "cell_type": "code",
   "execution_count": 131,
   "id": "70d15c42",
   "metadata": {},
   "outputs": [],
   "source": [
    "# 将PassengerId与预测结果，两两组合，构建成DataFrame类型，再写入到csv文件中\n",
    "data = zip(passenger_id, predict)\n",
    "result = pd.DataFrame(data=data, columns=['PassengerId', 'Survived'])\n",
    "result.to_csv(SUBMISSION_PATH, index=None)"
   ]
  },
  {
   "cell_type": "code",
   "execution_count": 80,
   "id": "5b12e1cb",
   "metadata": {},
   "outputs": [],
   "source": [
    "# def train_ch3(net, train_iter, test_iter, loss, num_epochs, updater):  #@save\n",
    "#     \"\"\"训练模型（定义见第3章）\"\"\"\n",
    "#     animator = Animator(xlabel='epoch', xlim=[1, num_epochs], ylim=[0.3, 0.9],\n",
    "#                         legend=['train loss', 'train acc', 'test acc'])\n",
    "#     for epoch in range(num_epochs):\n",
    "#         train_metrics = train_epoch_ch3(net, train_iter, loss, updater)\n",
    "#         test_acc = evaluate_accuracy(net, test_iter)\n",
    "#         animator.add(epoch + 1, train_metrics + (test_acc,))\n",
    "#     train_loss, train_acc = train_metrics\n",
    "#     assert train_loss < 0.5, train_loss\n",
    "#     assert train_acc <= 1 and train_acc > 0.7, train_acc\n",
    "#     assert test_acc <= 1 and test_acc > 0.7, test_acc"
   ]
  },
  {
   "cell_type": "code",
   "execution_count": null,
   "id": "2d339781",
   "metadata": {},
   "outputs": [],
   "source": []
  },
  {
   "cell_type": "code",
   "execution_count": null,
   "id": "65495037",
   "metadata": {},
   "outputs": [],
   "source": []
  },
  {
   "cell_type": "code",
   "execution_count": null,
   "id": "9d802a06",
   "metadata": {},
   "outputs": [],
   "source": []
  },
  {
   "cell_type": "code",
   "execution_count": null,
   "id": "66b5e314",
   "metadata": {},
   "outputs": [],
   "source": []
  },
  {
   "cell_type": "code",
   "execution_count": null,
   "id": "2fba736c",
   "metadata": {},
   "outputs": [],
   "source": []
  },
  {
   "cell_type": "code",
   "execution_count": null,
   "id": "2ee7a362",
   "metadata": {},
   "outputs": [],
   "source": []
  },
  {
   "cell_type": "code",
   "execution_count": null,
   "id": "ef4b8526",
   "metadata": {},
   "outputs": [],
   "source": []
  },
  {
   "cell_type": "code",
   "execution_count": null,
   "id": "399e3316",
   "metadata": {},
   "outputs": [],
   "source": []
  },
  {
   "cell_type": "code",
   "execution_count": null,
   "id": "7554b247",
   "metadata": {},
   "outputs": [],
   "source": []
  },
  {
   "cell_type": "code",
   "execution_count": null,
   "id": "b8292a77",
   "metadata": {},
   "outputs": [],
   "source": []
  },
  {
   "cell_type": "code",
   "execution_count": null,
   "id": "831a8c6c",
   "metadata": {},
   "outputs": [],
   "source": []
  },
  {
   "cell_type": "code",
   "execution_count": null,
   "id": "29b52ac4",
   "metadata": {},
   "outputs": [],
   "source": []
  },
  {
   "cell_type": "code",
   "execution_count": null,
   "id": "c1d54cf0",
   "metadata": {},
   "outputs": [],
   "source": []
  },
  {
   "cell_type": "code",
   "execution_count": null,
   "id": "fd98e83f",
   "metadata": {},
   "outputs": [],
   "source": []
  },
  {
   "cell_type": "code",
   "execution_count": null,
   "id": "7ed95a5f",
   "metadata": {},
   "outputs": [],
   "source": []
  },
  {
   "cell_type": "code",
   "execution_count": null,
   "id": "0673f62d",
   "metadata": {},
   "outputs": [],
   "source": []
  },
  {
   "cell_type": "code",
   "execution_count": null,
   "id": "1bfbcb03",
   "metadata": {},
   "outputs": [],
   "source": []
  },
  {
   "cell_type": "code",
   "execution_count": null,
   "id": "b2356f1d",
   "metadata": {},
   "outputs": [],
   "source": []
  },
  {
   "cell_type": "code",
   "execution_count": null,
   "id": "ff7f0887",
   "metadata": {},
   "outputs": [],
   "source": []
  },
  {
   "cell_type": "code",
   "execution_count": null,
   "id": "7a3ce7b1",
   "metadata": {},
   "outputs": [],
   "source": []
  },
  {
   "cell_type": "code",
   "execution_count": null,
   "id": "0f69194c",
   "metadata": {},
   "outputs": [],
   "source": []
  },
  {
   "cell_type": "code",
   "execution_count": null,
   "id": "8e0beb30",
   "metadata": {},
   "outputs": [],
   "source": []
  },
  {
   "cell_type": "code",
   "execution_count": null,
   "id": "48401b72",
   "metadata": {},
   "outputs": [],
   "source": []
  },
  {
   "cell_type": "code",
   "execution_count": null,
   "id": "4ab62529",
   "metadata": {},
   "outputs": [],
   "source": []
  },
  {
   "cell_type": "code",
   "execution_count": null,
   "id": "889450b1",
   "metadata": {},
   "outputs": [],
   "source": []
  },
  {
   "cell_type": "code",
   "execution_count": null,
   "id": "0d50d14a",
   "metadata": {},
   "outputs": [],
   "source": []
  },
  {
   "cell_type": "code",
   "execution_count": null,
   "id": "9165155e",
   "metadata": {},
   "outputs": [],
   "source": []
  },
  {
   "cell_type": "code",
   "execution_count": null,
   "id": "c5a0e5b1",
   "metadata": {},
   "outputs": [],
   "source": []
  },
  {
   "cell_type": "code",
   "execution_count": null,
   "id": "92b0e96b",
   "metadata": {},
   "outputs": [],
   "source": []
  },
  {
   "cell_type": "code",
   "execution_count": null,
   "id": "ac515401",
   "metadata": {},
   "outputs": [],
   "source": []
  },
  {
   "cell_type": "code",
   "execution_count": null,
   "id": "007263e0",
   "metadata": {},
   "outputs": [],
   "source": []
  },
  {
   "cell_type": "code",
   "execution_count": null,
   "id": "da8a615a",
   "metadata": {},
   "outputs": [],
   "source": []
  },
  {
   "cell_type": "code",
   "execution_count": null,
   "id": "1731bb1d",
   "metadata": {},
   "outputs": [],
   "source": []
  },
  {
   "cell_type": "code",
   "execution_count": null,
   "id": "b9ce0d7c",
   "metadata": {},
   "outputs": [],
   "source": []
  },
  {
   "cell_type": "code",
   "execution_count": null,
   "id": "0560ffdf",
   "metadata": {},
   "outputs": [],
   "source": []
  },
  {
   "cell_type": "code",
   "execution_count": null,
   "id": "ee32630a",
   "metadata": {},
   "outputs": [],
   "source": []
  },
  {
   "cell_type": "code",
   "execution_count": null,
   "id": "c2fa348f",
   "metadata": {},
   "outputs": [],
   "source": []
  },
  {
   "cell_type": "code",
   "execution_count": null,
   "id": "1a076054",
   "metadata": {},
   "outputs": [],
   "source": []
  },
  {
   "cell_type": "code",
   "execution_count": null,
   "id": "d63a189d",
   "metadata": {},
   "outputs": [],
   "source": []
  },
  {
   "cell_type": "code",
   "execution_count": null,
   "id": "1bf7670b",
   "metadata": {},
   "outputs": [],
   "source": []
  },
  {
   "cell_type": "code",
   "execution_count": null,
   "id": "9758c810",
   "metadata": {},
   "outputs": [],
   "source": []
  },
  {
   "cell_type": "code",
   "execution_count": null,
   "id": "0dfdfab6",
   "metadata": {},
   "outputs": [],
   "source": []
  },
  {
   "cell_type": "code",
   "execution_count": null,
   "id": "f25329e5",
   "metadata": {},
   "outputs": [],
   "source": []
  },
  {
   "cell_type": "code",
   "execution_count": null,
   "id": "d8c47d08",
   "metadata": {},
   "outputs": [],
   "source": []
  },
  {
   "cell_type": "code",
   "execution_count": null,
   "id": "ac3df7cd",
   "metadata": {},
   "outputs": [],
   "source": []
  },
  {
   "cell_type": "code",
   "execution_count": null,
   "id": "66b71272",
   "metadata": {},
   "outputs": [],
   "source": []
  },
  {
   "cell_type": "code",
   "execution_count": null,
   "id": "fa4b03d3",
   "metadata": {},
   "outputs": [],
   "source": []
  },
  {
   "cell_type": "code",
   "execution_count": null,
   "id": "df94a732",
   "metadata": {},
   "outputs": [],
   "source": []
  },
  {
   "cell_type": "code",
   "execution_count": null,
   "id": "1002cb9a",
   "metadata": {},
   "outputs": [],
   "source": []
  },
  {
   "cell_type": "code",
   "execution_count": null,
   "id": "57694266",
   "metadata": {},
   "outputs": [],
   "source": []
  },
  {
   "cell_type": "code",
   "execution_count": null,
   "id": "84c84d5c",
   "metadata": {},
   "outputs": [],
   "source": []
  },
  {
   "cell_type": "code",
   "execution_count": null,
   "id": "fedf7cff",
   "metadata": {},
   "outputs": [],
   "source": []
  },
  {
   "cell_type": "code",
   "execution_count": null,
   "id": "28a82dc6",
   "metadata": {},
   "outputs": [],
   "source": []
  },
  {
   "cell_type": "code",
   "execution_count": null,
   "id": "28637c46",
   "metadata": {},
   "outputs": [],
   "source": []
  },
  {
   "cell_type": "code",
   "execution_count": null,
   "id": "90f37579",
   "metadata": {},
   "outputs": [],
   "source": []
  },
  {
   "cell_type": "code",
   "execution_count": null,
   "id": "1759ee84",
   "metadata": {},
   "outputs": [],
   "source": []
  },
  {
   "cell_type": "code",
   "execution_count": null,
   "id": "b187b49f",
   "metadata": {},
   "outputs": [],
   "source": []
  },
  {
   "cell_type": "code",
   "execution_count": null,
   "id": "5164917c",
   "metadata": {},
   "outputs": [],
   "source": []
  },
  {
   "cell_type": "code",
   "execution_count": null,
   "id": "c35894a8",
   "metadata": {},
   "outputs": [],
   "source": []
  },
  {
   "cell_type": "code",
   "execution_count": null,
   "id": "502d1ab4",
   "metadata": {},
   "outputs": [],
   "source": []
  },
  {
   "cell_type": "code",
   "execution_count": null,
   "id": "ea648e68",
   "metadata": {},
   "outputs": [],
   "source": []
  },
  {
   "cell_type": "code",
   "execution_count": null,
   "id": "e6464ced",
   "metadata": {},
   "outputs": [],
   "source": []
  },
  {
   "cell_type": "code",
   "execution_count": null,
   "id": "dadd7dc5",
   "metadata": {},
   "outputs": [],
   "source": []
  },
  {
   "cell_type": "code",
   "execution_count": null,
   "id": "c17586d5",
   "metadata": {},
   "outputs": [],
   "source": []
  },
  {
   "cell_type": "code",
   "execution_count": null,
   "id": "a2e8ad70",
   "metadata": {},
   "outputs": [],
   "source": []
  },
  {
   "cell_type": "code",
   "execution_count": null,
   "id": "2eac2acf",
   "metadata": {},
   "outputs": [],
   "source": []
  },
  {
   "cell_type": "code",
   "execution_count": null,
   "id": "80aea032",
   "metadata": {},
   "outputs": [],
   "source": []
  },
  {
   "cell_type": "code",
   "execution_count": null,
   "id": "360c1078",
   "metadata": {},
   "outputs": [],
   "source": []
  },
  {
   "cell_type": "code",
   "execution_count": null,
   "id": "bf98a56f",
   "metadata": {},
   "outputs": [],
   "source": []
  },
  {
   "cell_type": "code",
   "execution_count": null,
   "id": "afa558f0",
   "metadata": {},
   "outputs": [],
   "source": []
  },
  {
   "cell_type": "code",
   "execution_count": null,
   "id": "ffe52dc5",
   "metadata": {},
   "outputs": [],
   "source": []
  },
  {
   "cell_type": "code",
   "execution_count": null,
   "id": "69ddd393",
   "metadata": {},
   "outputs": [],
   "source": []
  },
  {
   "cell_type": "code",
   "execution_count": null,
   "id": "e7c27b27",
   "metadata": {},
   "outputs": [],
   "source": []
  },
  {
   "cell_type": "code",
   "execution_count": null,
   "id": "a46660da",
   "metadata": {},
   "outputs": [],
   "source": []
  },
  {
   "cell_type": "code",
   "execution_count": null,
   "id": "8694d4c5",
   "metadata": {},
   "outputs": [],
   "source": []
  },
  {
   "cell_type": "code",
   "execution_count": null,
   "id": "e72c026a",
   "metadata": {},
   "outputs": [],
   "source": []
  },
  {
   "cell_type": "code",
   "execution_count": null,
   "id": "174b5800",
   "metadata": {},
   "outputs": [],
   "source": []
  },
  {
   "cell_type": "code",
   "execution_count": null,
   "id": "e608af1d",
   "metadata": {},
   "outputs": [],
   "source": []
  },
  {
   "cell_type": "code",
   "execution_count": null,
   "id": "5cf11eb8",
   "metadata": {},
   "outputs": [],
   "source": []
  },
  {
   "cell_type": "code",
   "execution_count": null,
   "id": "d30d77b7",
   "metadata": {},
   "outputs": [],
   "source": []
  },
  {
   "cell_type": "code",
   "execution_count": null,
   "id": "a0f86bbf",
   "metadata": {},
   "outputs": [],
   "source": []
  },
  {
   "cell_type": "code",
   "execution_count": null,
   "id": "54380c60",
   "metadata": {},
   "outputs": [],
   "source": []
  },
  {
   "cell_type": "code",
   "execution_count": null,
   "id": "1d6a2fe1",
   "metadata": {},
   "outputs": [],
   "source": []
  },
  {
   "cell_type": "code",
   "execution_count": null,
   "id": "3592defb",
   "metadata": {},
   "outputs": [],
   "source": []
  },
  {
   "cell_type": "code",
   "execution_count": null,
   "id": "8328cc48",
   "metadata": {},
   "outputs": [],
   "source": []
  }
 ],
 "metadata": {
  "kernelspec": {
   "display_name": "Python 3 (ipykernel)",
   "language": "python",
   "name": "python3"
  },
  "language_info": {
   "codemirror_mode": {
    "name": "ipython",
    "version": 3
   },
   "file_extension": ".py",
   "mimetype": "text/x-python",
   "name": "python",
   "nbconvert_exporter": "python",
   "pygments_lexer": "ipython3",
   "version": "3.8.13"
  }
 },
 "nbformat": 4,
 "nbformat_minor": 5
}
